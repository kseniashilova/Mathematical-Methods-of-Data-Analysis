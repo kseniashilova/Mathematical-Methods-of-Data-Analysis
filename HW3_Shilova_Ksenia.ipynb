{
 "cells": [
  {
   "cell_type": "markdown",
   "metadata": {
    "id": "s3v5HIUdDvY5"
   },
   "source": [
    "# HSE 2021: Mathematical Methods for Data Analysis\n",
    "\n",
    "## Homework 3\n",
    "\n",
    "**Warning 1**: some problems require (especially the lemmatization part) significant amount of time, so **it is better to start early (!)**\n",
    "\n",
    "**Warning 2**: it is critical to describe and explain what you are doing and why, use markdown cells\n",
    "\n",
    "### Attention!\n",
    "* For tasks where <ins>text answer</ins> is required **Russian language** is **allowed**.\n",
    "* If a task asks you to describe something (make conclusions) then **text answer** is **mandatory** and **is** part of the task\n",
    "* We **only** accept **ipynb** notebooks. If you use Google Colab then you'll have to download the notebook before passing the homework\n",
    "* **Do not** use python loops instead of NumPy vector operations over NumPy vectors - it significantly decreases performance (see why https://blog.paperspace.com/numpy-optimization-vectorization-and-broadcasting/), will be punished with -0.25 for **every** task. "
   ]
  },
  {
   "cell_type": "code",
   "execution_count": 1,
   "metadata": {
    "id": "F7t9dYtdDvZC"
   },
   "outputs": [],
   "source": [
    "from typing import Tuple, List\n",
    "\n",
    "import numpy as np\n",
    "import pandas as pd\n",
    "import math\n",
    "\n",
    "import matplotlib.pyplot as plt\n",
    "import numpy as np\n",
    "import pandas as pd\n",
    "import seaborn as sns\n",
    "%matplotlib inline\n",
    "\n",
    "sns.set(style=\"darkgrid\")"
   ]
  },
  {
   "cell_type": "code",
   "execution_count": 2,
   "metadata": {},
   "outputs": [],
   "source": [
    "import warnings\n",
    "warnings.filterwarnings('ignore')"
   ]
  },
  {
   "cell_type": "markdown",
   "metadata": {
    "id": "fIHtwV6vDvZD"
   },
   "source": [
    "## PART 1: Logit model"
   ]
  },
  {
   "cell_type": "markdown",
   "metadata": {
    "id": "Q7XKEWcVDvZD"
   },
   "source": [
    "We consider a binary classification problem. For prediction, we would like to use a logistic regression model. For regularization we add a combination of the $l_2$ and $l_1$ penalties (Elastic Net). \n",
    "\n",
    "Each object in the training dataset is indexed with $i$ and described by pair: features $x_i\\in\\mathbb{R}^{K}$ and binary labels $y_i$. The model is parametrized with bias $w_0\\in\\mathbb{R}$ and weights $w\\in\\mathbb{R}^K$.\n",
    "\n",
    "The optimization problem with respect to the $w_0, w$ is the following (Elastic Net Loss):\n",
    "\n",
    "$$L(w, w_0) = \\frac{1}{N} \\sum_{i=1}^N \\ln(1+\\exp(-y_i(w^\\top x_i+w_0))) + \\gamma \\|w\\|_1 + \\beta \\|w\\|_2^2$$."
   ]
  },
  {
   "cell_type": "markdown",
   "metadata": {
    "id": "j1eSuDKXFVZu"
   },
   "source": [
    "#### 1. [0.5 points]  Find the gradient of the Elastic Net loss and write its formulas (better in latex format) "
   ]
  },
  {
   "cell_type": "markdown",
   "metadata": {
    "id": "1zjH-YnPDvZD"
   },
   "source": [
    "##### Put your markdown formulas here below:"
   ]
  },
  {
   "cell_type": "markdown",
   "metadata": {},
   "source": [
    "Приведу сначала частные производные, которые получились:\n",
    "##### $$\\nabla_w L(w,w_0)= \\frac{1}{N} \\sum_i^N \\frac{\\exp(-y_i(w^\\top x_i+w_0))}{1+\\exp(-y_i(w^\\top x_i+w_0))} (-y_i x_i) + \\gamma (\\frac{|w_0|}{w_0}, \\frac{|w_1|}{w_1}, ... , \\frac{|w_k|}{w_k})^\\top+ 2 \\beta w $$\n",
    "\n",
    "##### $$\\nabla_{w_0} L(w,w_0)= \\frac{1}{N} \\sum_i^N \\frac{\\exp(-y_i(w^\\top x_i+w_0))}{1+\\exp(-y_i(w^\\top x_i+w_0))} (-y_i) $$\n",
    "\n",
    "При этом, если w не имеет нулевых координат, то \n",
    "\n",
    "##### $$\\nabla_w L(w,w_0)= \\frac{1}{N} \\sum_i^N \\frac{\\exp(-y_i(w^\\top x_i+w_0))}{1+\\exp(-y_i(w^\\top x_i+w_0))} (-y_i x_i) + \\gamma sign(w)+ 2 \\beta w $$\n",
    "\n",
    "Приведу вычисления, которые понадобились для вычисления производных норм Минковского 1 и 2 (все остальные вычисления - обычное взятие производной сложной функции):\n",
    "###### $$(\\|w\\|_1)' = (\\sum_i^k |w_i|)' = (\\frac{|w_0|}{w_0}, \\frac{|w_1|}{w_1}, ... , \\frac{|w_k|}{w_k})^\\top $$\n",
    "###### $$(\\|w\\|_2^2)' = 2\\|w\\|_2(\\|w\\|_2)' = 2\\|w\\|_2(\\sqrt(w_0^2 + ... + w_k^2))' = 2\\|w\\|_2 \\frac{2w}{2\\sqrt(w_0^2 + ... + w_k^2)} = 2w $$\n"
   ]
  },
  {
   "cell_type": "markdown",
   "metadata": {
    "id": "eRQTLbTdiZb5"
   },
   "source": [
    "**Reminder!**\n",
    "Do not use loops in task 2 and task 3. Loss and grad functions should be implemented in matrix form, without loops."
   ]
  },
  {
   "cell_type": "markdown",
   "metadata": {
    "id": "Q_lIccN_DvZE"
   },
   "source": [
    "#### 2. [0.5 points] Implement the Elastic Net loss (as a function)"
   ]
  },
  {
   "cell_type": "code",
   "execution_count": 3,
   "metadata": {
    "id": "9QNfCtV5DvZE"
   },
   "outputs": [],
   "source": [
    "def loss(X, y, w: List[float], w0: float, gamma=1., beta=1.) -> float:\n",
    "    \n",
    "    \"\"\"\n",
    "    :param w: np.ndarray of shape (n_feratures,) -- the weights\n",
    "    :param w0: intercept\n",
    "    :param X: np.ndarray of shape (n_objects, n_features) -- matrix objects-features\n",
    "    :param y: np.ndarray of shape (n_objects,) -- vector of the correct answers\n",
    "    :param gamma: penalty hyperparameter of L1-regularization\n",
    "    :param beta: penalty hyperparameter of L2-regularization\n",
    "    \"\"\"\n",
    "    #np.dot(X, w)+w0 - вычисляет произведение каждой строки матрицы X на вектор w как скалярное произведение векторов\n",
    "    #-y*(np.dot(X, w)+w0) - умножает каждый элемент yi на i-ое скалярное произведение\n",
    "    #np.exp(-y*(np.dot(X, w)+w0)) - вычисляет степень экспоненты для каждого элемента массива\n",
    "    #np.log(1 + np.exp(-y*(np.dot(X, w)+w0))) - вычисляет логарифм от каждого элемента массива\n",
    "    #затем np.sum суммирует по каждому i от 1 до N\n",
    "    #Затем делим на N и прибавляем две функции от норм\n",
    "    n = len(y)\n",
    "    return 1/n * np.sum(np.log(1 + np.exp(-y*(np.dot(X, w)+w0)))) + gamma*np.linalg.norm(w, 1) + beta*(np.linalg.norm(w, 2) ** 2)"
   ]
  },
  {
   "cell_type": "markdown",
   "metadata": {
    "id": "fIVoC6UmDvZE"
   },
   "source": [
    "#### 3. [0.5 points] Implement the gradient (as a function)"
   ]
  },
  {
   "cell_type": "code",
   "execution_count": 4,
   "metadata": {
    "id": "HWqBLGRADvZE"
   },
   "outputs": [],
   "source": [
    "def get_grad(X, y, w: List[float], w0: float, gamma=1., beta=1.) -> Tuple[List[float], float]:\n",
    "    \n",
    "    '''\n",
    "    :param X: np.ndarray of shape (n_objects, n_features) -- matrix objects-features\n",
    "    :param y: np.ndarray of shape (n_objects,) -- vector of the correct answers\n",
    "    :param w: np.ndarray of shape (n_feratures,) -- the weights\n",
    "    :param w0: intercept\n",
    "    :param gamma: penalty hyperparameter of L1-regularization\n",
    "    :param beta: penalty hyperparameter of L2-regularization\n",
    "    \n",
    "    '''\n",
    "    n = len(y)\n",
    "    exp_helper = np.exp(-y*(np.dot(X,w)+w0))\n",
    "    w_grad = -1/n * np.dot(exp_helper / (1+exp_helper)*y,X) + gamma*np.sign(w) + 2*beta*w\n",
    "    w0_grad = -1/n * np.sum(y * exp_helper/(1 + exp_helper))\n",
    "    return w_grad, w0_grad"
   ]
  },
  {
   "cell_type": "markdown",
   "metadata": {
    "id": "BhOb8HrtDvZF"
   },
   "source": [
    "#### Check yourself"
   ]
  },
  {
   "cell_type": "code",
   "execution_count": 5,
   "metadata": {
    "id": "3FxXTocHDvZF"
   },
   "outputs": [],
   "source": [
    "np.random.seed(42)\n",
    "X = np.random.multivariate_normal(np.arange(5), np.eye(5), size=10)\n",
    "y = np.random.binomial(1, 0.42, size=10)\n",
    "w, w0 = np.random.normal(size=5), np.random.normal()\n",
    "\n",
    "grad_w, grad_w0 = get_grad(X, y, w, w0)\n",
    "assert(np.allclose(grad_w,\n",
    "                   [-2.73262076, -1.87176281, 1.30051144, 2.53598941, -2.71198109],\n",
    "                   rtol=1e-2) & \\\n",
    "       np.allclose(grad_w0,\n",
    "                   -0.2078231418067844, \n",
    "                   rtol=1e-2)\n",
    ")"
   ]
  },
  {
   "cell_type": "markdown",
   "metadata": {
    "id": "LbqLfcrRDvZF"
   },
   "source": [
    "####  4. [1 point]  Implement gradient descent and plot the decision boundary of the result"
   ]
  },
  {
   "cell_type": "markdown",
   "metadata": {
    "id": "iIgiwQkjDvZF"
   },
   "source": [
    "The template provides basic sklearn API class. You are free to modify it in any convenient way."
   ]
  },
  {
   "cell_type": "code",
   "execution_count": 6,
   "metadata": {
    "id": "Thyeux0KDvZG"
   },
   "outputs": [],
   "source": [
    "from sklearn.base import BaseEstimator, ClassifierMixin\n",
    "from sklearn.metrics import roc_curve"
   ]
  },
  {
   "cell_type": "code",
   "execution_count": 7,
   "metadata": {
    "id": "FFwVym3WiZb7"
   },
   "outputs": [],
   "source": [
    "class Logit(BaseEstimator, ClassifierMixin):\n",
    "    def __init__(self, beta=1.0, gamma=1.0, learning_rate=1e-2, tolerance=1e-8, max_iter=1000, threshold = 0.5, random_state=42):  \n",
    "        '''\n",
    "        betta: penalty hyperparameter of L2-regularization\n",
    "        gamma: penalty hyperparameter of L1-regularization\n",
    "        tolerance: minimal allowed movement in each iteration\n",
    "        lr: determines the step size at each iteration\n",
    "        max_iter: maximum number of iterations taken for the solvers to converge\n",
    "        \n",
    "        '''\n",
    "        self.beta = beta        \n",
    "        self.gamma = gamma\n",
    "        self.tolerance= tolerance\n",
    "        self.max_iter= max_iter\n",
    "        self.learning_rate = learning_rate\n",
    "        self.random_state = random_state\n",
    "        # you may additional properties if you wish\n",
    "        self.threshold = threshold\n",
    "        self.w = None\n",
    "        self.w0 = None\n",
    "        self.loss_history = None\n",
    "        self.classes_ = [-1,1]\n",
    "        \n",
    "    def fit(self, X, y):\n",
    "        \n",
    "        \n",
    "        # add weights and bias and optimize Elastic Net loss over (X,y) dataset\n",
    "        # save history of optimization steps\n",
    "        self.loss_history = []\n",
    "        self.w, self.w0 = np.random.normal(size=X.shape[1]), np.random.normal()\n",
    "        prev_w, prew_w0 = np.array(self.w), self.w0\n",
    "        for i in range(self.max_iter):\n",
    "            grad_w, grad_w0 = get_grad(X, y, self.w, self.w0, gamma = self.gamma, beta = self.beta)\n",
    "            self.w -= self.learning_rate * grad_w\n",
    "            self.w0 -= self.learning_rate * grad_w0\n",
    "            self.loss_history.append(loss(X, y, self.w, self.w0, gamma = self.gamma, beta = self.beta))\n",
    "            if np.linalg.norm(self.w - prev_w) < self.tolerance:\n",
    "                break\n",
    "            prev_w, prev_w0 = np.array(self.w), w0\n",
    "        return self\n",
    "    \n",
    "   \n",
    "    \n",
    "    def predict(self, X):\n",
    "        prob_x=self.predict_proba(X)  \n",
    "        predict_x=np.where(prob_x<self.threshold,self.classes_[0],self.classes_[1])\n",
    "        return predict_x\n",
    "\n",
    "        \n",
    "    def predict_proba(self, X):\n",
    "        '''\n",
    "        Function that estimates probabilities \n",
    "\n",
    "        '''\n",
    "        #Так как мы используем функцию активации  1/ (1 + e^-s)\n",
    "        return np.array(1 / (1 + np.exp(-1* np.dot(X, self.w) - self.w0)))\n",
    "    \n",
    "    def decision_function(self, X):\n",
    "        '''\n",
    "        Function that estimates probabilities \n",
    "\n",
    "        '''\n",
    "        #Так как мы используем функцию активации  1/ (1 + e^-s)\n",
    "        return np.array(1 / (1 + np.exp(-1* np.dot(X, self.w) - self.w0)))\n",
    "    \n",
    "    def set_params(self, **parameters):\n",
    "        for parameter, value in parameters.items():\n",
    "            setattr(self, parameter, value)\n",
    "        return self\n",
    "    \n",
    "    def get_params(self,deep=True):\n",
    "        return {\"beta\" : self.beta,\"gamma\" : self.gamma,\"learning_rate\" : self.learning_rate,\n",
    "                \"tolerance\" : self.tolerance,\"max_iter\" : self.max_iter,\n",
    "                \"random_state\" : self.random_state}"
   ]
  },
  {
   "cell_type": "code",
   "execution_count": 8,
   "metadata": {
    "id": "7SJX8Y6EDvZG"
   },
   "outputs": [],
   "source": [
    "# sample data to test your model\n",
    "from sklearn.datasets import make_classification\n",
    "X, y = make_classification(n_samples=180, n_features=2, n_redundant=0, n_informative=2,\n",
    "                               random_state=42, n_clusters_per_class=1)"
   ]
  },
  {
   "cell_type": "code",
   "execution_count": 9,
   "metadata": {
    "id": "u41kzwGTDvZH"
   },
   "outputs": [],
   "source": [
    "# a function to plot the decision boundary\n",
    "def plot_decision_boundary(model, X, y):\n",
    "    fig = plt.figure()\n",
    "    X1min, X2min = X.min(axis=0)\n",
    "    X1max, X2max = X.max(axis=0)\n",
    "    x1, x2 = np.meshgrid(np.linspace(X1min, X1max, 200),\n",
    "                         np.linspace(X2min, X2max, 200))\n",
    "    ypred = model.predict(np.c_[x1.ravel(), x2.ravel()])\n",
    "    ypred = ypred.reshape(x1.shape)\n",
    "    \n",
    "    plt.contourf(x1, x2, ypred, alpha=.4)\n",
    "    plt.scatter(X[:,0], X[:,1], c=y)"
   ]
  },
  {
   "cell_type": "code",
   "execution_count": 10,
   "metadata": {
    "id": "mNuYbsAoDvZI",
    "outputId": "fef5b1f8-f50c-4683-cd55-04e3926c1d97"
   },
   "outputs": [
    {
     "data": {
      "image/png": "[encoded data removed]",
      "text/plain": [
       "<Figure size 432x288 with 1 Axes>"
      ]
     },
     "metadata": {
      "needs_background": "light"
     },
     "output_type": "display_data"
    }
   ],
   "source": [
    "model = Logit(beta = 0,gamma = 0)\n",
    "y[y == 0] = -1\n",
    "model.fit(X, y)\n",
    "plot_decision_boundary(model, X, y)"
   ]
  },
  {
   "cell_type": "markdown",
   "metadata": {
    "id": "Qi4WRhcADvZI"
   },
   "source": [
    "#### 5. [0.5 points] Plot loss diagram for the model, i.e. show the dependence of the loss function from the gradient descent steps"
   ]
  },
  {
   "cell_type": "code",
   "execution_count": 11,
   "metadata": {
    "id": "R2uptHxWiZb9",
    "outputId": "72c99675-08f8-4ffe-bf54-d1ca1592dee2"
   },
   "outputs": [
    {
     "data": {
      "text/plain": [
       "[<matplotlib.lines.Line2D at 0x1c2c110d4a8>]"
      ]
     },
     "execution_count": 11,
     "metadata": {},
     "output_type": "execute_result"
    },
    {
     "data": {
      "image/png": "[encoded data removed]",
      "text/plain": [
       "<Figure size 432x288 with 1 Axes>"
      ]
     },
     "metadata": {
      "needs_background": "light"
     },
     "output_type": "display_data"
    }
   ],
   "source": [
    "plt.plot(model.loss_history)"
   ]
  },
  {
   "cell_type": "markdown",
   "metadata": {
    "id": "0FhSCAv_DvZJ"
   },
   "source": [
    "## PART 2: Support Vector Machines"
   ]
  },
  {
   "cell_type": "markdown",
   "metadata": {
    "id": "lYyGsSxEDvZJ"
   },
   "source": [
    "#### 6. [1 point] Using the same dataset, train SVM Classifier from Sklearn.\n",
    "Investigate how different parameters influence the quality of the solution:\n",
    "+ Try several kernels: Linear, Polynomial, RBF (and others if you wish). Some Kernels have hypermeters: don't forget to try different.\n",
    "+ Regularization coefficient \n",
    "\n",
    "Show how these parameters affect accuracy, roc_auc and f1 score. \n",
    "Make plots for the dependencies between metrics and parameters. \n",
    "Try to formulate conclusions from the observations. How sensitive are kernels to hyperparameters? How sensitive is a solution to the regularization? Which kernel is prone to overfitting?"
   ]
  },
  {
   "cell_type": "code",
   "execution_count": 12,
   "metadata": {},
   "outputs": [],
   "source": [
    "from sklearn.svm import SVC\n",
    "from sklearn.metrics import accuracy_score, roc_auc_score, f1_score\n",
    "from sklearn.model_selection import train_test_split"
   ]
  },
  {
   "cell_type": "code",
   "execution_count": 13,
   "metadata": {},
   "outputs": [],
   "source": [
    "X_train, X_test, y_train, y_test = train_test_split(X, y, test_size=0.25, random_state=42)"
   ]
  },
  {
   "cell_type": "code",
   "execution_count": 14,
   "metadata": {
    "id": "Nicu_O3IDvZK"
   },
   "outputs": [],
   "source": [
    "parameters = {'kernel':('linear', 'rbf', 'poly', 'sigmoid'), 'C':np.linspace(0.0001, 1, 100), \n",
    "              'class_weight' : ['balanced', None], 'estimator__penalty':['l1', 'l2', 'elasticnet']}"
   ]
  },
  {
   "cell_type": "code",
   "execution_count": 15,
   "metadata": {},
   "outputs": [],
   "source": [
    "accuracy = []\n",
    "roc_auc = []\n",
    "f1 = []\n",
    "for ecw in parameters['class_weight']:\n",
    "    accuracy_w = []\n",
    "    roc_auc_w = []\n",
    "    f1_w = []\n",
    "    for kernel in parameters['kernel']:\n",
    "        accuracy_lst = []\n",
    "        roc_auc_lst = []\n",
    "        f1_lst = []\n",
    "        for c in parameters['C']:\n",
    "            clf =  SVC(kernel=kernel,C=c, class_weight = ecw)\n",
    "            clf.fit(X_train, y_train)\n",
    "            y_pred = clf.predict(X_test)\n",
    "            accuracy_lst.append(accuracy_score(y_test,y_pred))\n",
    "            roc_auc_lst.append(roc_auc_score(y_test,y_pred))\n",
    "            f1_lst.append(f1_score(y_test,y_pred))\n",
    "        accuracy_w.append(accuracy_lst)\n",
    "        roc_auc_w.append(roc_auc_lst)\n",
    "        f1_w.append(f1_lst)\n",
    "    accuracy.append(accuracy_w)\n",
    "    roc_auc.append(roc_auc_w)\n",
    "    f1.append(f1_w)"
   ]
  },
  {
   "cell_type": "code",
   "execution_count": 16,
   "metadata": {},
   "outputs": [
    {
     "data": {
      "text/plain": [
       "Text(0.5, 0.98, 'Accuracy')"
      ]
     },
     "execution_count": 16,
     "metadata": {},
     "output_type": "execute_result"
    },
    {
     "data": {
      "image/png": "[encoded data removed]",
      "text/plain": [
       "<Figure size 720x288 with 2 Axes>"
      ]
     },
     "metadata": {
      "needs_background": "light"
     },
     "output_type": "display_data"
    }
   ],
   "source": [
    "fig, axs = plt.subplots(1, 2,figsize=(10,4))\n",
    "axs[0].plot(accuracy[0][0], color='r', label = 'linear')\n",
    "axs[0].plot(accuracy[0][1], color='g', label = 'rbf')\n",
    "axs[0].plot(accuracy[0][2], color='y', label = 'poly')\n",
    "axs[0].plot(accuracy[0][3], color='b', label = 'sigmoid')\n",
    "axs[0].legend()\n",
    "axs[0].set_title('class_weight=None')\n",
    "axs[1].plot(accuracy[1][0], color='r', label = 'linear')\n",
    "axs[1].plot(accuracy[1][1], color='g', label = 'rbf')\n",
    "axs[1].plot(accuracy[1][2], color='y', label = 'poly')\n",
    "axs[1].plot(accuracy[1][3], color='b', label = 'sigmoid')\n",
    "axs[1].legend()\n",
    "axs[1].set_title('class_weight=balanced')\n",
    "fig.suptitle('Accuracy')"
   ]
  },
  {
   "cell_type": "markdown",
   "metadata": {},
   "source": [
    "Вывод: для kernel = sigmoid доля правильно предсказанных значений никогда не приближается к единице, в отличие от других значений kernel. Кроме того, мы видим, что кожффициент C влияет на accuracy приблизительно одинаково для kernal - linear, rbf, poly. При достаточном большой значении результат по accuracy выходит на плато = 1."
   ]
  },
  {
   "cell_type": "code",
   "execution_count": 17,
   "metadata": {},
   "outputs": [
    {
     "data": {
      "text/plain": [
       "Text(0.5, 0.98, 'Roc_auc')"
      ]
     },
     "execution_count": 17,
     "metadata": {},
     "output_type": "execute_result"
    },
    {
     "data": {
      "image/png": "[encoded data removed]",
      "text/plain": [
       "<Figure size 720x288 with 2 Axes>"
      ]
     },
     "metadata": {
      "needs_background": "light"
     },
     "output_type": "display_data"
    }
   ],
   "source": [
    "fig, axs = plt.subplots(1, 2,figsize=(10,4))\n",
    "axs[0].plot(roc_auc[0][0], color='r', label = 'linear')\n",
    "axs[0].plot(roc_auc[0][1], color='g', label = 'rbf')\n",
    "axs[0].plot(roc_auc[0][2], color='y', label = 'poly')\n",
    "axs[0].plot(roc_auc[0][3], color='b', label = 'sigmoid')\n",
    "axs[0].legend()\n",
    "axs[0].set_title('class_weight=None')\n",
    "axs[1].plot(roc_auc[1][0], color='r', label = 'linear')\n",
    "axs[1].plot(roc_auc[1][1], color='g', label = 'rbf')\n",
    "axs[1].plot(roc_auc[1][2], color='y', label = 'poly')\n",
    "axs[1].plot(roc_auc[1][3], color='b', label = 'sigmoid')\n",
    "axs[1].legend()\n",
    "axs[1].set_title('class_weight=balanced')\n",
    "fig.suptitle('Roc_auc')"
   ]
  },
  {
   "cell_type": "code",
   "execution_count": 18,
   "metadata": {},
   "outputs": [
    {
     "data": {
      "text/plain": [
       "Text(0.5, 0.98, 'F1')"
      ]
     },
     "execution_count": 18,
     "metadata": {},
     "output_type": "execute_result"
    },
    {
     "data": {
      "image/png": "[encoded data removed]",
      "text/plain": [
       "<Figure size 720x288 with 2 Axes>"
      ]
     },
     "metadata": {
      "needs_background": "light"
     },
     "output_type": "display_data"
    }
   ],
   "source": [
    "fig, axs = plt.subplots(1, 2,figsize=(10,4))\n",
    "axs[0].plot(f1[0][0], color='r', label = 'linear')\n",
    "axs[0].plot(f1[0][1], color='g', label = 'rbf')\n",
    "axs[0].plot(f1[0][2], color='y', label = 'poly')\n",
    "axs[0].plot(f1[0][3], color='b', label = 'sigmoid')\n",
    "axs[0].legend()\n",
    "axs[0].set_title('class_weight=None')\n",
    "axs[1].plot(f1[1][0], color='r', label = 'linear')\n",
    "axs[1].plot(f1[1][1], color='g', label = 'rbf')\n",
    "axs[1].plot(f1[1][2], color='y', label = 'poly')\n",
    "axs[1].plot(f1[1][3], color='b', label = 'sigmoid')\n",
    "axs[1].legend()\n",
    "axs[1].set_title('class_weight=balanced')\n",
    "fig.suptitle('F1')"
   ]
  },
  {
   "cell_type": "markdown",
   "metadata": {},
   "source": [
    "Для f1 и roc_auc_score можно сказать то же самое, что и для accuracy, но для f1_score с ростом параметра C ближе приближается к единице, это можно объяснить самим определением метрики - среднее гармоническое -  относительно других метрик."
   ]
  },
  {
   "cell_type": "markdown",
   "metadata": {
    "id": "sY8q6JdCDvZK"
   },
   "source": [
    "## PART 3: Natural Language Processing"
   ]
  },
  {
   "cell_type": "markdown",
   "metadata": {
    "id": "eD4xKhYfDvZK"
   },
   "source": [
    "#### 7. [2 point] Form the dataset\n",
    "\n",
    "We are going to form a dataset that we will use in the following tasks for binary and multiclass classification\n",
    "\n",
    "0. Choose **six** authors that you like (specify who you've chosen) and download the <a href=\"https://www.kaggle.com/d0rj3228/russian-literature?select=prose\">relevant data</a> from **prose** section\n",
    "1. Build your own dataset for these authors: [0.5 point]\n",
    "    * divide each text into sentences such that we will have two columns: *sentence* and *target author*, each row will contain one sentence and one target\n",
    "    * drop sentences where N symbols in a sentence < 15\n",
    "    * fix random state and randomly choose sentences in the folowing proportion \"30k : 15k : 7k : 20k: 40k : 3k\" for the authors respectively\n",
    "    \n",
    "    sample data may look like:\n",
    "    \n",
    "    <center> \n",
    "    <table>\n",
    "        <tr>\n",
    "            <th> sentence </th>\n",
    "            <th> author </th>\n",
    "        </tr> \n",
    "        <tr><td> Несколько лет тому назад в одном из своих поместий жил старинный русской барин, Кирила Петрович Троекуров. </td><td> Пушкин </td><td> \n",
    "        <tr><td> Уже более недели приезжий господин жил в городе, разъезжая по вечеринкам и обедам и таким образом проводя, как говорится, очень приятно время. </td><td> Гоголь </td><td> \n",
    "        <tr><td> ... </td><td> ... </td><td> \n",
    "        <tr><td> Я жил недорослем, гоняя голубей и играя в чехарду с дворовыми мальчишками. </td><td> Пушкин </td><td>         \n",
    "    </table>\n",
    "</center>\n",
    "     \n",
    "2. Preprocess (tokenize and clean) the dataset  [1.5 point]\n",
    "    * tokenize, remove all stop words (nltk.corpus.stopwords), punctuation (string.punctuation) and numbers\n",
    "    * convert to lower case and lemmatize the words\n",
    "    * vectorize words using both **bag of words** and **tf-idf** (use sklearn)\n",
    "    * observe and describe the difference between vectorized output (what do numbers look like after transformations and what do they represent?)"
   ]
  },
  {
   "cell_type": "code",
   "execution_count": 19,
   "metadata": {},
   "outputs": [],
   "source": [
    "import requests\n",
    "from bs4 import BeautifulSoup "
   ]
  },
  {
   "cell_type": "markdown",
   "metadata": {},
   "source": [
    "### 1. Собрать датасет"
   ]
  },
  {
   "cell_type": "markdown",
   "metadata": {},
   "source": [
    "Соберем весь текст определенного писателя из репозитория на гитхабе"
   ]
  },
  {
   "cell_type": "code",
   "execution_count": 20,
   "metadata": {
    "id": "NVStbeQ8DvZL"
   },
   "outputs": [],
   "source": [
    "def get_all_text(author):\n",
    "    url_author = 'https://github.com/d0rj/RusLit/tree/main/prose/' + author\n",
    "    response = requests.get(url_author)\n",
    "    soup = BeautifulSoup(response.text, 'lxml')\n",
    "    lst = soup.find_all(\"a\", {\"class\": \"js-navigation-open Link--primary\"})\n",
    "    names = []\n",
    "    for item in lst:\n",
    "        names.append(item.text)\n",
    "    names = names[1:]  # удаляем info.csv\n",
    "    #names = названия всех произведений, которые есть в репозитории\n",
    "    our_text = ''\n",
    "    for name in names:\n",
    "        url = 'https://github.com/d0rj/RusLit/blob/main/prose/' + author + '/' + name\n",
    "        response = requests.get(url)\n",
    "        soup = BeautifulSoup(response.text, 'lxml')\n",
    "        lst = soup.find_all('tr')\n",
    "        for item in lst:\n",
    "            our_text += item.text  \n",
    "    return our_text"
   ]
  },
  {
   "cell_type": "code",
   "execution_count": 21,
   "metadata": {},
   "outputs": [],
   "source": [
    "Gorky_text = get_all_text('Gorky')"
   ]
  },
  {
   "cell_type": "code",
   "execution_count": 22,
   "metadata": {},
   "outputs": [],
   "source": [
    "Turgenev_text = get_all_text('Turgenev')"
   ]
  },
  {
   "cell_type": "code",
   "execution_count": 23,
   "metadata": {},
   "outputs": [],
   "source": [
    "Dostoevsky_text = get_all_text('Dostoevsky')"
   ]
  },
  {
   "cell_type": "code",
   "execution_count": 24,
   "metadata": {},
   "outputs": [],
   "source": [
    "Bryusov_text = get_all_text('Bryusov')"
   ]
  },
  {
   "cell_type": "code",
   "execution_count": 25,
   "metadata": {},
   "outputs": [],
   "source": [
    "Herzen_text = get_all_text('Herzen')"
   ]
  },
  {
   "cell_type": "code",
   "execution_count": 26,
   "metadata": {},
   "outputs": [],
   "source": [
    "Blok_text = get_all_text('Blok')"
   ]
  },
  {
   "cell_type": "markdown",
   "metadata": {},
   "source": [
    "Разделим все тексты на предложения и удалим предложения, где длина < 15."
   ]
  },
  {
   "cell_type": "code",
   "execution_count": 27,
   "metadata": {},
   "outputs": [],
   "source": [
    "lst = Gorky_text.split('.')\n",
    "Gorky_lst = [lst[i] for i in range(len(lst)) if len(lst[i]) >= 15]\n",
    "\n",
    "lst = np.array(Turgenev_text.split('.'))\n",
    "Turgenev_lst = [lst[i] for i in range(len(lst)) if len(lst[i]) >= 15]\n",
    "\n",
    "lst = np.array(Dostoevsky_text.split('.'))\n",
    "Dostoevsky_lst = [lst[i] for i in range(len(lst)) if len(lst[i]) >= 15]\n",
    "\n",
    "lst = np.array(Bryusov_text.split('.'))\n",
    "Bryusov_lst = [lst[i] for i in range(len(lst)) if len(lst[i]) >= 15]\n",
    "\n",
    "lst = np.array(Herzen_text.split('.'))\n",
    "Herzen_lst = [lst[i] for i in range(len(lst)) if len(lst[i]) >= 15]\n",
    "\n",
    "lst = np.array(Blok_text.split('.'))\n",
    "Blok_lst = [lst[i] for i in range(len(lst)) if len(lst[i]) >= 15]"
   ]
  },
  {
   "cell_type": "markdown",
   "metadata": {},
   "source": [
    "Возьмем предложения в нужной пропорции 30k : 15k : 7k : 20k: 40k : 3k"
   ]
  },
  {
   "cell_type": "code",
   "execution_count": 28,
   "metadata": {},
   "outputs": [
    {
     "name": "stdout",
     "output_type": "stream",
     "text": [
      "31700\n",
      "14242\n",
      "28747\n",
      "13020\n",
      "8703\n",
      "404\n"
     ]
    }
   ],
   "source": [
    "print(len(Gorky_lst)) # часть 40k\n",
    "print(len(Turgenev_lst)) # часть 20k\n",
    "print(len(Dostoevsky_lst)) # часть 30k\n",
    "print(len(Bryusov_lst)) # часть 15k\n",
    "print(len(Herzen_lst)) # часть 7k\n",
    "print(len(Blok_lst)) # часть 3k"
   ]
  },
  {
   "cell_type": "markdown",
   "metadata": {},
   "source": [
    "Чтобы сделать датасет побольше, возьмем наименьший датасет за 3k. Тогда из соответственно берем следующее количество предложений:\n",
    "<br>\n",
    "Gorky_lst  404*40/3 = 5387\n",
    "<br>\n",
    "Dostoevsky_lst 404*30/3 = 4040\n",
    "<br>\n",
    "Turgenev_lst 404*20/3=2693\n",
    "<br>\n",
    "Bryusov_lst 404*15/3 = 2020\n",
    "<br>\n",
    "Herzen_lst 404*7/3 = 943\n",
    "<br>\n",
    "Blok_lst 404*3/3 = 404"
   ]
  },
  {
   "cell_type": "code",
   "execution_count": 29,
   "metadata": {},
   "outputs": [],
   "source": [
    "import random\n",
    "random.seed(42)\n",
    "Gorky_lst2 = random.sample(Gorky_lst, 5387)\n",
    "Dostoevsky_lst2 = random.sample(Dostoevsky_lst, 4040)\n",
    "Turgenev_lst2 = random.sample(Turgenev_lst, 2693)\n",
    "Bryusov_lst2 = random.sample(Bryusov_lst, 2020)\n",
    "Herzen_lst2 = random.sample(Herzen_lst, 943)\n",
    "Blok_lst2 = random.sample(Blok_lst, 404)"
   ]
  },
  {
   "cell_type": "code",
   "execution_count": 30,
   "metadata": {},
   "outputs": [
    {
     "name": "stdout",
     "output_type": "stream",
     "text": [
      "5387\n",
      "2693\n",
      "4040\n",
      "2020\n",
      "943\n",
      "404\n"
     ]
    }
   ],
   "source": [
    "print(len(Gorky_lst2)) # часть 40k\n",
    "print(len(Turgenev_lst2)) # часть 20k\n",
    "print(len(Dostoevsky_lst2)) # часть 30k\n",
    "print(len(Bryusov_lst2)) # часть 15k\n",
    "print(len(Herzen_lst2)) # часть 7k\n",
    "print(len(Blok_lst2)) # часть 3k"
   ]
  },
  {
   "cell_type": "markdown",
   "metadata": {},
   "source": [
    "Создаем сам датасет"
   ]
  },
  {
   "cell_type": "code",
   "execution_count": 31,
   "metadata": {},
   "outputs": [],
   "source": [
    "def get_data(lst2, author_name):\n",
    "    lst2 = np.array(lst2)\n",
    "    author = np.repeat(author_name, len(lst2))\n",
    "    lst=[]\n",
    "    lst.append(lst2)\n",
    "    lst.append(author)\n",
    "    return np.transpose(lst)"
   ]
  },
  {
   "cell_type": "code",
   "execution_count": 32,
   "metadata": {},
   "outputs": [],
   "source": [
    "data = np.concatenate([get_data(Gorky_lst2, 'Gorky'), get_data(Turgenev_lst2, 'Turgenev'),\n",
    "                get_data(Dostoevsky_lst2, 'Dostoevsky'), get_data(Bryusov_lst2, 'Bryusov'),\n",
    "               get_data(Herzen_lst2, 'Herzen'), get_data(Blok_lst2, 'Blok')], axis = 0)"
   ]
  },
  {
   "cell_type": "code",
   "execution_count": 33,
   "metadata": {},
   "outputs": [],
   "source": [
    "data = pd.DataFrame(data,columns = ['sentence', 'author'])\n",
    "data['sentence'] = data['sentence'].apply(lambda x: x.replace('\\n', ''))"
   ]
  },
  {
   "cell_type": "markdown",
   "metadata": {},
   "source": [
    "Получили нужный датасет (с текстом и их авторами). Датасет не перемешан, но это не повлияет на дальнейшие задания."
   ]
  },
  {
   "cell_type": "code",
   "execution_count": 34,
   "metadata": {
    "scrolled": true
   },
   "outputs": [
    {
     "data": {
      "text/html": [
       "<div>\n",
       "<style scoped>\n",
       "    .dataframe tbody tr th:only-of-type {\n",
       "        vertical-align: middle;\n",
       "    }\n",
       "\n",
       "    .dataframe tbody tr th {\n",
       "        vertical-align: top;\n",
       "    }\n",
       "\n",
       "    .dataframe thead th {\n",
       "        text-align: right;\n",
       "    }\n",
       "</style>\n",
       "<table border=\"1\" class=\"dataframe\">\n",
       "  <thead>\n",
       "    <tr style=\"text-align: right;\">\n",
       "      <th></th>\n",
       "      <th>sentence</th>\n",
       "      <th>author</th>\n",
       "    </tr>\n",
       "  </thead>\n",
       "  <tbody>\n",
       "    <tr>\n",
       "      <th>0</th>\n",
       "      <td>Кроме иголок, еще разные железины в ртуть кла...</td>\n",
       "      <td>Gorky</td>\n",
       "    </tr>\n",
       "    <tr>\n",
       "      <th>1</th>\n",
       "      <td>Она опустилась, помолчала, потирая лоб и щё...</td>\n",
       "      <td>Gorky</td>\n",
       "    </tr>\n",
       "    <tr>\n",
       "      <th>2</th>\n",
       "      <td>— А вот мы их устраним, — если сойдемся с вами...</td>\n",
       "      <td>Gorky</td>\n",
       "    </tr>\n",
       "    <tr>\n",
       "      <th>3</th>\n",
       "      <td>— Рыбак? А он</td>\n",
       "      <td>Gorky</td>\n",
       "    </tr>\n",
       "    <tr>\n",
       "      <th>4</th>\n",
       "      <td>— И облака бегут</td>\n",
       "      <td>Gorky</td>\n",
       "    </tr>\n",
       "    <tr>\n",
       "      <th>5</th>\n",
       "      <td>Ничего не знаю, а — есть обман</td>\n",
       "      <td>Gorky</td>\n",
       "    </tr>\n",
       "    <tr>\n",
       "      <th>6</th>\n",
       "      <td>— Верно! — прервал его Рыбин</td>\n",
       "      <td>Gorky</td>\n",
       "    </tr>\n",
       "    <tr>\n",
       "      <th>7</th>\n",
       "      <td>Под полатями висели пучки трав: зверобой, бук...</td>\n",
       "      <td>Gorky</td>\n",
       "    </tr>\n",
       "    <tr>\n",
       "      <th>8</th>\n",
       "      <td>Воздух был пропитан острым запахом моря и жирн...</td>\n",
       "      <td>Gorky</td>\n",
       "    </tr>\n",
       "    <tr>\n",
       "      <th>9</th>\n",
       "      <td>— Хорошее дело!   Молчали долго</td>\n",
       "      <td>Gorky</td>\n",
       "    </tr>\n",
       "    <tr>\n",
       "      <th>10</th>\n",
       "      <td>— Пропился, что ли?— Окончательно пропился, ма...</td>\n",
       "      <td>Gorky</td>\n",
       "    </tr>\n",
       "    <tr>\n",
       "      <th>11</th>\n",
       "      <td>Луна освещала ее сухие, потрескавшиеся губы, ...</td>\n",
       "      <td>Gorky</td>\n",
       "    </tr>\n",
       "    <tr>\n",
       "      <th>12</th>\n",
       "      <td>- Уж я по лицу да и по всему вижу, что нехоро...</td>\n",
       "      <td>Gorky</td>\n",
       "    </tr>\n",
       "    <tr>\n",
       "      <th>13</th>\n",
       "      <td>Смотри — я посчитаю!Алешка(отворив дверь, кри...</td>\n",
       "      <td>Gorky</td>\n",
       "    </tr>\n",
       "    <tr>\n",
       "      <th>14</th>\n",
       "      <td>— Бога видеть человеку не дано — ослепнешь;...</td>\n",
       "      <td>Gorky</td>\n",
       "    </tr>\n",
       "    <tr>\n",
       "      <th>15</th>\n",
       "      <td>Силой, которая всю жизнь крепко держала и держ...</td>\n",
       "      <td>Gorky</td>\n",
       "    </tr>\n",
       "    <tr>\n",
       "      <th>16</th>\n",
       "      <td>и, если захотим чего, - достанем! Да, мы с не...</td>\n",
       "      <td>Gorky</td>\n",
       "    </tr>\n",
       "    <tr>\n",
       "      <th>17</th>\n",
       "      <td>Дьякон вдруг как-то напрягся, пошлепал губами...</td>\n",
       "      <td>Gorky</td>\n",
       "    </tr>\n",
       "    <tr>\n",
       "      <th>18</th>\n",
       "      <td>В тишине ночи ясно разносилось шуршание колес...</td>\n",
       "      <td>Gorky</td>\n",
       "    </tr>\n",
       "    <tr>\n",
       "      <th>19</th>\n",
       "      <td>Но однажды, когда она подошла к нему с ласк...</td>\n",
       "      <td>Gorky</td>\n",
       "    </tr>\n",
       "    <tr>\n",
       "      <th>20</th>\n",
       "      <td>Из сеней вышли двое понятых — старый литейщик ...</td>\n",
       "      <td>Gorky</td>\n",
       "    </tr>\n",
       "    <tr>\n",
       "      <th>21</th>\n",
       "      <td>Мать улыбнулась</td>\n",
       "      <td>Gorky</td>\n",
       "    </tr>\n",
       "    <tr>\n",
       "      <th>22</th>\n",
       "      <td>В то воскресенье, с жандармами</td>\n",
       "      <td>Gorky</td>\n",
       "    </tr>\n",
       "    <tr>\n",
       "      <th>23</th>\n",
       "      <td>Когда я сказал ему, что, на мой взгляд, он не ...</td>\n",
       "      <td>Gorky</td>\n",
       "    </tr>\n",
       "    <tr>\n",
       "      <th>24</th>\n",
       "      <td>— А не четыреста, как сказал вам</td>\n",
       "      <td>Gorky</td>\n",
       "    </tr>\n",
       "    <tr>\n",
       "      <th>25</th>\n",
       "      <td>Вот приходит он ночью в сад, в беседку, как м...</td>\n",
       "      <td>Gorky</td>\n",
       "    </tr>\n",
       "    <tr>\n",
       "      <th>26</th>\n",
       "      <td>Лучший слесарь на фабрике и первый силач в сл...</td>\n",
       "      <td>Gorky</td>\n",
       "    </tr>\n",
       "    <tr>\n",
       "      <th>27</th>\n",
       "      <td>Бодрая, словно кошка, Нунча наклонилась над не...</td>\n",
       "      <td>Gorky</td>\n",
       "    </tr>\n",
       "    <tr>\n",
       "      <th>28</th>\n",
       "      <td>Иногда откуда-то налетал порыв ветра; он тихо...</td>\n",
       "      <td>Gorky</td>\n",
       "    </tr>\n",
       "    <tr>\n",
       "      <th>29</th>\n",
       "      <td>Они поспорили, сдержанно и холодно, как спорят...</td>\n",
       "      <td>Gorky</td>\n",
       "    </tr>\n",
       "    <tr>\n",
       "      <th>...</th>\n",
       "      <td>...</td>\n",
       "      <td>...</td>\n",
       "    </tr>\n",
       "    <tr>\n",
       "      <th>15457</th>\n",
       "      <td>После этого все и пошло прахом</td>\n",
       "      <td>Blok</td>\n",
       "    </tr>\n",
       "    <tr>\n",
       "      <th>15458</th>\n",
       "      <td>И свидания над туманным озером еще больше наг...</td>\n",
       "      <td>Blok</td>\n",
       "    </tr>\n",
       "    <tr>\n",
       "      <th>15459</th>\n",
       "      <td>Руки мне режут телеграфные провода</td>\n",
       "      <td>Blok</td>\n",
       "    </tr>\n",
       "    <tr>\n",
       "      <th>15460</th>\n",
       "      <td>Усталая душа присела у порога могилы</td>\n",
       "      <td>Blok</td>\n",
       "    </tr>\n",
       "    <tr>\n",
       "      <th>15461</th>\n",
       "      <td>Снег почти сошел; только под старыми елями се...</td>\n",
       "      <td>Blok</td>\n",
       "    </tr>\n",
       "    <tr>\n",
       "      <th>15462</th>\n",
       "      <td>Никакого ответа на его тоскливые жалобы</td>\n",
       "      <td>Blok</td>\n",
       "    </tr>\n",
       "    <tr>\n",
       "      <th>15463</th>\n",
       "      <td>Приходи, любовь моя, приходи!    Ноябрь 19...</td>\n",
       "      <td>Blok</td>\n",
       "    </tr>\n",
       "    <tr>\n",
       "      <th>15464</th>\n",
       "      <td>И приходят очень быстро, потому что всего тол...</td>\n",
       "      <td>Blok</td>\n",
       "    </tr>\n",
       "    <tr>\n",
       "      <th>15465</th>\n",
       "      <td>Густо колосится рожь, за нею - сырые стены го...</td>\n",
       "      <td>Blok</td>\n",
       "    </tr>\n",
       "    <tr>\n",
       "      <th>15466</th>\n",
       "      <td>И все долгие ночи было видно, как летел за ...</td>\n",
       "      <td>Blok</td>\n",
       "    </tr>\n",
       "    <tr>\n",
       "      <th>15467</th>\n",
       "      <td>Отчего же муравьиный царь так беспокоится, и ...</td>\n",
       "      <td>Blok</td>\n",
       "    </tr>\n",
       "    <tr>\n",
       "      <th>15468</th>\n",
       "      <td>Мужики подхватили песню</td>\n",
       "      <td>Blok</td>\n",
       "    </tr>\n",
       "    <tr>\n",
       "      <th>15469</th>\n",
       "      <td>Уже из уст в уста переходило его имя, соедине...</td>\n",
       "      <td>Blok</td>\n",
       "    </tr>\n",
       "    <tr>\n",
       "      <th>15470</th>\n",
       "      <td>И дева будет бесконечно ткать, вышивать пышны...</td>\n",
       "      <td>Blok</td>\n",
       "    </tr>\n",
       "    <tr>\n",
       "      <th>15471</th>\n",
       "      <td>Тогда погаснет ясный свет, и змея ударом хвос...</td>\n",
       "      <td>Blok</td>\n",
       "    </tr>\n",
       "    <tr>\n",
       "      <th>15472</th>\n",
       "      <td>Это - высокие стены, туго набитые хворостом; ...</td>\n",
       "      <td>Blok</td>\n",
       "    </tr>\n",
       "    <tr>\n",
       "      <th>15473</th>\n",
       "      <td>- Как у вас мило, - непринужденно сказал я,...</td>\n",
       "      <td>Blok</td>\n",
       "    </tr>\n",
       "    <tr>\n",
       "      <th>15474</th>\n",
       "      <td>Чужая красота дохнула на меня</td>\n",
       "      <td>Blok</td>\n",
       "    </tr>\n",
       "    <tr>\n",
       "      <th>15475</th>\n",
       "      <td>Разве здесь не пахнет опять этим муравьины...</td>\n",
       "      <td>Blok</td>\n",
       "    </tr>\n",
       "    <tr>\n",
       "      <th>15476</th>\n",
       "      <td>Так не коснулась сердца его измена</td>\n",
       "      <td>Blok</td>\n",
       "    </tr>\n",
       "    <tr>\n",
       "      <th>15477</th>\n",
       "      <td>Она - тоже розовая, и на кофточке ее приколот...</td>\n",
       "      <td>Blok</td>\n",
       "    </tr>\n",
       "    <tr>\n",
       "      <th>15478</th>\n",
       "      <td>Дырявые и мертвые ее глаза смотрят все еще нежно</td>\n",
       "      <td>Blok</td>\n",
       "    </tr>\n",
       "    <tr>\n",
       "      <th>15479</th>\n",
       "      <td>Придет к тебе - тонкая, хорошенькая дочь прив...</td>\n",
       "      <td>Blok</td>\n",
       "    </tr>\n",
       "    <tr>\n",
       "      <th>15480</th>\n",
       "      <td>Он знал, что я - осведомленный журналист; я ж...</td>\n",
       "      <td>Blok</td>\n",
       "    </tr>\n",
       "    <tr>\n",
       "      <th>15481</th>\n",
       "      <td>Идешь мимо целебных ключей, где закупоривают ...</td>\n",
       "      <td>Blok</td>\n",
       "    </tr>\n",
       "    <tr>\n",
       "      <th>15482</th>\n",
       "      <td>Вот, наконец, высокий, узкий паровоз; но уж...</td>\n",
       "      <td>Blok</td>\n",
       "    </tr>\n",
       "    <tr>\n",
       "      <th>15483</th>\n",
       "      <td>Нежнейшее остается чужим</td>\n",
       "      <td>Blok</td>\n",
       "    </tr>\n",
       "    <tr>\n",
       "      <th>15484</th>\n",
       "      <td>Едкий городской дым кутает меня в грязную шубу</td>\n",
       "      <td>Blok</td>\n",
       "    </tr>\n",
       "    <tr>\n",
       "      <th>15485</th>\n",
       "      <td>И, целуя ее осыпанную кольцами руку, он обжиг...</td>\n",
       "      <td>Blok</td>\n",
       "    </tr>\n",
       "    <tr>\n",
       "      <th>15486</th>\n",
       "      <td>Это - те самые химерические уродцы, которые с...</td>\n",
       "      <td>Blok</td>\n",
       "    </tr>\n",
       "  </tbody>\n",
       "</table>\n",
       "<p>15487 rows × 2 columns</p>\n",
       "</div>"
      ],
      "text/plain": [
       "                                                sentence author\n",
       "0       Кроме иголок, еще разные железины в ртуть кла...  Gorky\n",
       "1         Она опустилась, помолчала, потирая лоб и щё...  Gorky\n",
       "2      — А вот мы их устраним, — если сойдемся с вами...  Gorky\n",
       "3                                          — Рыбак? А он  Gorky\n",
       "4                                       — И облака бегут  Gorky\n",
       "5                         Ничего не знаю, а — есть обман  Gorky\n",
       "6                           — Верно! — прервал его Рыбин  Gorky\n",
       "7       Под полатями висели пучки трав: зверобой, бук...  Gorky\n",
       "8      Воздух был пропитан острым запахом моря и жирн...  Gorky\n",
       "9                        — Хорошее дело!   Молчали долго  Gorky\n",
       "10     — Пропился, что ли?— Окончательно пропился, ма...  Gorky\n",
       "11      Луна освещала ее сухие, потрескавшиеся губы, ...  Gorky\n",
       "12      - Уж я по лицу да и по всему вижу, что нехоро...  Gorky\n",
       "13      Смотри — я посчитаю!Алешка(отворив дверь, кри...  Gorky\n",
       "14        — Бога видеть человеку не дано — ослепнешь;...  Gorky\n",
       "15     Силой, которая всю жизнь крепко держала и держ...  Gorky\n",
       "16      и, если захотим чего, - достанем! Да, мы с не...  Gorky\n",
       "17      Дьякон вдруг как-то напрягся, пошлепал губами...  Gorky\n",
       "18      В тишине ночи ясно разносилось шуршание колес...  Gorky\n",
       "19        Но однажды, когда она подошла к нему с ласк...  Gorky\n",
       "20     Из сеней вышли двое понятых — старый литейщик ...  Gorky\n",
       "21                                       Мать улыбнулась  Gorky\n",
       "22                        В то воскресенье, с жандармами  Gorky\n",
       "23     Когда я сказал ему, что, на мой взгляд, он не ...  Gorky\n",
       "24                      — А не четыреста, как сказал вам  Gorky\n",
       "25      Вот приходит он ночью в сад, в беседку, как м...  Gorky\n",
       "26      Лучший слесарь на фабрике и первый силач в сл...  Gorky\n",
       "27     Бодрая, словно кошка, Нунча наклонилась над не...  Gorky\n",
       "28      Иногда откуда-то налетал порыв ветра; он тихо...  Gorky\n",
       "29     Они поспорили, сдержанно и холодно, как спорят...  Gorky\n",
       "...                                                  ...    ...\n",
       "15457                     После этого все и пошло прахом   Blok\n",
       "15458   И свидания над туманным озером еще больше наг...   Blok\n",
       "15459                 Руки мне режут телеграфные провода   Blok\n",
       "15460               Усталая душа присела у порога могилы   Blok\n",
       "15461   Снег почти сошел; только под старыми елями се...   Blok\n",
       "15462            Никакого ответа на его тоскливые жалобы   Blok\n",
       "15463      Приходи, любовь моя, приходи!    Ноябрь 19...   Blok\n",
       "15464   И приходят очень быстро, потому что всего тол...   Blok\n",
       "15465   Густо колосится рожь, за нею - сырые стены го...   Blok\n",
       "15466     И все долгие ночи было видно, как летел за ...   Blok\n",
       "15467   Отчего же муравьиный царь так беспокоится, и ...   Blok\n",
       "15468                            Мужики подхватили песню   Blok\n",
       "15469   Уже из уст в уста переходило его имя, соедине...   Blok\n",
       "15470   И дева будет бесконечно ткать, вышивать пышны...   Blok\n",
       "15471   Тогда погаснет ясный свет, и змея ударом хвос...   Blok\n",
       "15472   Это - высокие стены, туго набитые хворостом; ...   Blok\n",
       "15473     - Как у вас мило, - непринужденно сказал я,...   Blok\n",
       "15474                      Чужая красота дохнула на меня   Blok\n",
       "15475      Разве здесь не пахнет опять этим муравьины...   Blok\n",
       "15476                 Так не коснулась сердца его измена   Blok\n",
       "15477   Она - тоже розовая, и на кофточке ее приколот...   Blok\n",
       "15478   Дырявые и мертвые ее глаза смотрят все еще нежно   Blok\n",
       "15479   Придет к тебе - тонкая, хорошенькая дочь прив...   Blok\n",
       "15480   Он знал, что я - осведомленный журналист; я ж...   Blok\n",
       "15481   Идешь мимо целебных ключей, где закупоривают ...   Blok\n",
       "15482     Вот, наконец, высокий, узкий паровоз; но уж...   Blok\n",
       "15483                           Нежнейшее остается чужим   Blok\n",
       "15484     Едкий городской дым кутает меня в грязную шубу   Blok\n",
       "15485   И, целуя ее осыпанную кольцами руку, он обжиг...   Blok\n",
       "15486   Это - те самые химерические уродцы, которые с...   Blok\n",
       "\n",
       "[15487 rows x 2 columns]"
      ]
     },
     "execution_count": 34,
     "metadata": {},
     "output_type": "execute_result"
    }
   ],
   "source": [
    "data"
   ]
  },
  {
   "cell_type": "markdown",
   "metadata": {},
   "source": [
    "### 2. Предобработка"
   ]
  },
  {
   "cell_type": "markdown",
   "metadata": {},
   "source": [
    "* tokenize, remove all stop words (nltk.corpus.stopwords), punctuation (string.punctuation) and numbers\n",
    "* convert to lower case and lemmatize the words\n",
    "* vectorize words using both **bag of words** and **tf-idf** (use sklearn)\n",
    "* observe and describe the difference between vectorized output (what do numbers look like after transformations and what do they represent?)"
   ]
  },
  {
   "cell_type": "code",
   "execution_count": 35,
   "metadata": {},
   "outputs": [],
   "source": [
    "import string \n",
    "import nltk"
   ]
  },
  {
   "cell_type": "code",
   "execution_count": 36,
   "metadata": {},
   "outputs": [
    {
     "name": "stderr",
     "output_type": "stream",
     "text": [
      "[nltk_data] Downloading package stopwords to\n",
      "[nltk_data]     C:\\Users\\Пользователь\\AppData\\Roaming\\nltk_data...\n",
      "[nltk_data]   Package stopwords is already up-to-date!\n"
     ]
    }
   ],
   "source": [
    "nltk.download('stopwords')\n",
    "stop_words = nltk.corpus.stopwords.words('russian')"
   ]
  },
  {
   "cell_type": "code",
   "execution_count": 37,
   "metadata": {},
   "outputs": [],
   "source": [
    "# define word tokenizer\n",
    "word_tokenizer = nltk.WordPunctTokenizer()"
   ]
  },
  {
   "cell_type": "code",
   "execution_count": 38,
   "metadata": {},
   "outputs": [],
   "source": [
    "#воспользуемся функцией с семинара, немного изменив ее\n",
    "dates = [str(x) for x in np.arange(0, 10000)]\n",
    "def process_data(data):\n",
    "    texts = []\n",
    "    for item in data['sentence']:\n",
    "        text_lower = item.lower()\n",
    "        tokens = word_tokenizer.tokenize(text_lower) # splits the text into tokens (words)\n",
    "        # remove punct and stop words from tokens\n",
    "        tokens = [word for word in tokens if (word not in string.punctuation and word != '—' and word != '–' and word != '-' and word not in stop_words and word not in dates)]\n",
    "        texts.append(tokens) # collect the text tokens\n",
    "    return texts"
   ]
  },
  {
   "cell_type": "code",
   "execution_count": 39,
   "metadata": {},
   "outputs": [],
   "source": [
    "texts = process_data(data)"
   ]
  },
  {
   "cell_type": "code",
   "execution_count": 40,
   "metadata": {},
   "outputs": [
    {
     "data": {
      "text/plain": [
       "[['кроме',\n",
       "  'иголок',\n",
       "  'разные',\n",
       "  'железины',\n",
       "  'ртуть',\n",
       "  'кладут',\n",
       "  'разные',\n",
       "  'звуки',\n",
       "  'иголка',\n",
       "  'своему',\n",
       "  'гвоздь',\n",
       "  'своему',\n",
       "  'выходит',\n",
       "  'этакая',\n",
       "  'чертовская',\n",
       "  'музыка'],\n",
       " ['опустилась',\n",
       "  'помолчала',\n",
       "  'потирая',\n",
       "  'лоб',\n",
       "  'щёки',\n",
       "  'спросила',\n",
       "  'дедушка',\n",
       "  'ставил',\n",
       "  'угол',\n",
       "  'вообще',\n",
       "  'крикнула',\n",
       "  'ударив',\n",
       "  'дважды',\n",
       "  'ладонью',\n",
       "  'столу'],\n",
       " ['устраним', 'сойдемся', 'вами', 'пообещал', 'петунников'],\n",
       " ['рыбак'],\n",
       " ['облака', 'бегут']]"
      ]
     },
     "execution_count": 40,
     "metadata": {},
     "output_type": "execute_result"
    }
   ],
   "source": [
    "texts[:5]"
   ]
  },
  {
   "cell_type": "code",
   "execution_count": 41,
   "metadata": {},
   "outputs": [],
   "source": [
    "import pymorphy2\n",
    "morph = pymorphy2.MorphAnalyzer()"
   ]
  },
  {
   "cell_type": "code",
   "execution_count": 42,
   "metadata": {},
   "outputs": [],
   "source": [
    "morph_texts = []\n",
    "for sent in texts:\n",
    "    morph_texts.append([morph.parse(word)[0].normal_form for word in sent ])"
   ]
  },
  {
   "cell_type": "code",
   "execution_count": 43,
   "metadata": {},
   "outputs": [
    {
     "data": {
      "text/plain": [
       "[['кроме',\n",
       "  'иголка',\n",
       "  'разный',\n",
       "  'железина',\n",
       "  'ртуть',\n",
       "  'класть',\n",
       "  'разный',\n",
       "  'звук',\n",
       "  'иголка',\n",
       "  'свой',\n",
       "  'гвоздь',\n",
       "  'свой',\n",
       "  'выходить',\n",
       "  'этакий',\n",
       "  'чертовский',\n",
       "  'музыка'],\n",
       " ['опуститься',\n",
       "  'помолчать',\n",
       "  'потирать',\n",
       "  'лоб',\n",
       "  'щека',\n",
       "  'спросить',\n",
       "  'дедушка',\n",
       "  'ставить',\n",
       "  'угол',\n",
       "  'вообще',\n",
       "  'крикнуть',\n",
       "  'ударить',\n",
       "  'дважды',\n",
       "  'ладонь',\n",
       "  'стол'],\n",
       " ['устранимый', 'сойтись', 'вы', 'пообещать', 'петунник'],\n",
       " ['рыбак'],\n",
       " ['облако', 'бежать']]"
      ]
     },
     "execution_count": 43,
     "metadata": {},
     "output_type": "execute_result"
    }
   ],
   "source": [
    "morph_texts[:5]"
   ]
  },
  {
   "cell_type": "markdown",
   "metadata": {},
   "source": [
    "* vectorize words using both bag of words and tf-idf (use sklearn)"
   ]
  },
  {
   "cell_type": "code",
   "execution_count": 44,
   "metadata": {},
   "outputs": [
    {
     "data": {
      "text/html": [
       "<div>\n",
       "<style scoped>\n",
       "    .dataframe tbody tr th:only-of-type {\n",
       "        vertical-align: middle;\n",
       "    }\n",
       "\n",
       "    .dataframe tbody tr th {\n",
       "        vertical-align: top;\n",
       "    }\n",
       "\n",
       "    .dataframe thead th {\n",
       "        text-align: right;\n",
       "    }\n",
       "</style>\n",
       "<table border=\"1\" class=\"dataframe\">\n",
       "  <thead>\n",
       "    <tr style=\"text-align: right;\">\n",
       "      <th></th>\n",
       "      <th>sentence</th>\n",
       "      <th>author</th>\n",
       "      <th>preprocessed</th>\n",
       "    </tr>\n",
       "  </thead>\n",
       "  <tbody>\n",
       "    <tr>\n",
       "      <th>0</th>\n",
       "      <td>Кроме иголок, еще разные железины в ртуть кла...</td>\n",
       "      <td>Gorky</td>\n",
       "      <td>[кроме, иголка, разный, железина, ртуть, класт...</td>\n",
       "    </tr>\n",
       "    <tr>\n",
       "      <th>1</th>\n",
       "      <td>Она опустилась, помолчала, потирая лоб и щё...</td>\n",
       "      <td>Gorky</td>\n",
       "      <td>[опуститься, помолчать, потирать, лоб, щека, с...</td>\n",
       "    </tr>\n",
       "    <tr>\n",
       "      <th>2</th>\n",
       "      <td>— А вот мы их устраним, — если сойдемся с вами...</td>\n",
       "      <td>Gorky</td>\n",
       "      <td>[устранимый, сойтись, вы, пообещать, петунник]</td>\n",
       "    </tr>\n",
       "    <tr>\n",
       "      <th>3</th>\n",
       "      <td>— Рыбак? А он</td>\n",
       "      <td>Gorky</td>\n",
       "      <td>[рыбак]</td>\n",
       "    </tr>\n",
       "    <tr>\n",
       "      <th>4</th>\n",
       "      <td>— И облака бегут</td>\n",
       "      <td>Gorky</td>\n",
       "      <td>[облако, бежать]</td>\n",
       "    </tr>\n",
       "  </tbody>\n",
       "</table>\n",
       "</div>"
      ],
      "text/plain": [
       "                                            sentence author  \\\n",
       "0   Кроме иголок, еще разные железины в ртуть кла...  Gorky   \n",
       "1     Она опустилась, помолчала, потирая лоб и щё...  Gorky   \n",
       "2  — А вот мы их устраним, — если сойдемся с вами...  Gorky   \n",
       "3                                      — Рыбак? А он  Gorky   \n",
       "4                                   — И облака бегут  Gorky   \n",
       "\n",
       "                                        preprocessed  \n",
       "0  [кроме, иголка, разный, железина, ртуть, класт...  \n",
       "1  [опуститься, помолчать, потирать, лоб, щека, с...  \n",
       "2     [устранимый, сойтись, вы, пообещать, петунник]  \n",
       "3                                            [рыбак]  \n",
       "4                                   [облако, бежать]  "
      ]
     },
     "execution_count": 44,
     "metadata": {},
     "output_type": "execute_result"
    }
   ],
   "source": [
    "data['preprocessed'] = morph_texts\n",
    "data.head()"
   ]
  },
  {
   "cell_type": "code",
   "execution_count": 45,
   "metadata": {},
   "outputs": [],
   "source": [
    "data['preprocessed_texts'] = data['preprocessed'].apply(lambda x: ' '.join(x))"
   ]
  },
  {
   "cell_type": "code",
   "execution_count": 46,
   "metadata": {},
   "outputs": [
    {
     "data": {
      "text/html": [
       "<div>\n",
       "<style scoped>\n",
       "    .dataframe tbody tr th:only-of-type {\n",
       "        vertical-align: middle;\n",
       "    }\n",
       "\n",
       "    .dataframe tbody tr th {\n",
       "        vertical-align: top;\n",
       "    }\n",
       "\n",
       "    .dataframe thead th {\n",
       "        text-align: right;\n",
       "    }\n",
       "</style>\n",
       "<table border=\"1\" class=\"dataframe\">\n",
       "  <thead>\n",
       "    <tr style=\"text-align: right;\">\n",
       "      <th></th>\n",
       "      <th>sentence</th>\n",
       "      <th>author</th>\n",
       "      <th>preprocessed</th>\n",
       "      <th>preprocessed_texts</th>\n",
       "    </tr>\n",
       "  </thead>\n",
       "  <tbody>\n",
       "    <tr>\n",
       "      <th>0</th>\n",
       "      <td>Кроме иголок, еще разные железины в ртуть кла...</td>\n",
       "      <td>Gorky</td>\n",
       "      <td>[кроме, иголка, разный, железина, ртуть, класт...</td>\n",
       "      <td>кроме иголка разный железина ртуть класть разн...</td>\n",
       "    </tr>\n",
       "    <tr>\n",
       "      <th>1</th>\n",
       "      <td>Она опустилась, помолчала, потирая лоб и щё...</td>\n",
       "      <td>Gorky</td>\n",
       "      <td>[опуститься, помолчать, потирать, лоб, щека, с...</td>\n",
       "      <td>опуститься помолчать потирать лоб щека спросит...</td>\n",
       "    </tr>\n",
       "    <tr>\n",
       "      <th>2</th>\n",
       "      <td>— А вот мы их устраним, — если сойдемся с вами...</td>\n",
       "      <td>Gorky</td>\n",
       "      <td>[устранимый, сойтись, вы, пообещать, петунник]</td>\n",
       "      <td>устранимый сойтись вы пообещать петунник</td>\n",
       "    </tr>\n",
       "    <tr>\n",
       "      <th>3</th>\n",
       "      <td>— Рыбак? А он</td>\n",
       "      <td>Gorky</td>\n",
       "      <td>[рыбак]</td>\n",
       "      <td>рыбак</td>\n",
       "    </tr>\n",
       "    <tr>\n",
       "      <th>4</th>\n",
       "      <td>— И облака бегут</td>\n",
       "      <td>Gorky</td>\n",
       "      <td>[облако, бежать]</td>\n",
       "      <td>облако бежать</td>\n",
       "    </tr>\n",
       "    <tr>\n",
       "      <th>5</th>\n",
       "      <td>Ничего не знаю, а — есть обман</td>\n",
       "      <td>Gorky</td>\n",
       "      <td>[знать, обман]</td>\n",
       "      <td>знать обман</td>\n",
       "    </tr>\n",
       "    <tr>\n",
       "      <th>6</th>\n",
       "      <td>— Верно! — прервал его Рыбин</td>\n",
       "      <td>Gorky</td>\n",
       "      <td>[верно, прервать, рыбина]</td>\n",
       "      <td>верно прервать рыбина</td>\n",
       "    </tr>\n",
       "    <tr>\n",
       "      <th>7</th>\n",
       "      <td>Под полатями висели пучки трав: зверобой, бук...</td>\n",
       "      <td>Gorky</td>\n",
       "      <td>[полати, висеть, пучок, трава, зверобой, букви...</td>\n",
       "      <td>полати висеть пучок трава зверобой буквица мед...</td>\n",
       "    </tr>\n",
       "    <tr>\n",
       "      <th>8</th>\n",
       "      <td>Воздух был пропитан острым запахом моря и жирн...</td>\n",
       "      <td>Gorky</td>\n",
       "      <td>[воздух, пропитать, острый, запах, море, жирны...</td>\n",
       "      <td>воздух пропитать острый запах море жирный испа...</td>\n",
       "    </tr>\n",
       "    <tr>\n",
       "      <th>9</th>\n",
       "      <td>— Хорошее дело!   Молчали долго</td>\n",
       "      <td>Gorky</td>\n",
       "      <td>[хороший, дело, молчать, долго]</td>\n",
       "      <td>хороший дело молчать долго</td>\n",
       "    </tr>\n",
       "    <tr>\n",
       "      <th>10</th>\n",
       "      <td>— Пропился, что ли?— Окончательно пропился, ма...</td>\n",
       "      <td>Gorky</td>\n",
       "      <td>[пропиться, ?—, окончательно, пропиться, мать,...</td>\n",
       "      <td>пропиться ?— окончательно пропиться мать !— эк...</td>\n",
       "    </tr>\n",
       "    <tr>\n",
       "      <th>11</th>\n",
       "      <td>Луна освещала ее сухие, потрескавшиеся губы, ...</td>\n",
       "      <td>Gorky</td>\n",
       "      <td>[луна, освещать, сухой, потрескаться, губа, за...</td>\n",
       "      <td>луна освещать сухой потрескаться губа заострит...</td>\n",
       "    </tr>\n",
       "    <tr>\n",
       "      <th>12</th>\n",
       "      <td>- Уж я по лицу да и по всему вижу, что нехоро...</td>\n",
       "      <td>Gorky</td>\n",
       "      <td>[лицо, весь, видеть, нехорошо, ты, житься, ска...</td>\n",
       "      <td>лицо весь видеть нехорошо ты житься сказать фо...</td>\n",
       "    </tr>\n",
       "    <tr>\n",
       "      <th>13</th>\n",
       "      <td>Смотри — я посчитаю!Алешка(отворив дверь, кри...</td>\n",
       "      <td>Gorky</td>\n",
       "      <td>[смотреть, посчитать, алёшка, отворить, дверь,...</td>\n",
       "      <td>смотреть посчитать алёшка отворить дверь кричать</td>\n",
       "    </tr>\n",
       "    <tr>\n",
       "      <th>14</th>\n",
       "      <td>— Бога видеть человеку не дано — ослепнешь;...</td>\n",
       "      <td>Gorky</td>\n",
       "      <td>[бог, видеть, человек, дать, ослепнуть, святой...</td>\n",
       "      <td>бог видеть человек дать ослепнуть святой гляде...</td>\n",
       "    </tr>\n",
       "    <tr>\n",
       "      <th>15</th>\n",
       "      <td>Силой, которая всю жизнь крепко держала и держ...</td>\n",
       "      <td>Gorky</td>\n",
       "      <td>[сила, который, жизнь, крепко, держать, держат...</td>\n",
       "      <td>сила который жизнь крепко держать держать земл...</td>\n",
       "    </tr>\n",
       "    <tr>\n",
       "      <th>16</th>\n",
       "      <td>и, если захотим чего, - достанем! Да, мы с не...</td>\n",
       "      <td>Gorky</td>\n",
       "      <td>[захотеть, достать, достать]</td>\n",
       "      <td>захотеть достать достать</td>\n",
       "    </tr>\n",
       "    <tr>\n",
       "      <th>17</th>\n",
       "      <td>Дьякон вдруг как-то напрягся, пошлепал губами...</td>\n",
       "      <td>Gorky</td>\n",
       "      <td>[дьякон, напрячься, пошлёпать, губа, потереть,...</td>\n",
       "      <td>дьякон напрячься пошлёпать губа потереть лоб д...</td>\n",
       "    </tr>\n",
       "    <tr>\n",
       "      <th>18</th>\n",
       "      <td>В тишине ночи ясно разносилось шуршание колес...</td>\n",
       "      <td>Gorky</td>\n",
       "      <td>[тишина, ночь, ясно, разноситься, шуршание, ко...</td>\n",
       "      <td>тишина ночь ясно разноситься шуршание колесо з...</td>\n",
       "    </tr>\n",
       "    <tr>\n",
       "      <th>19</th>\n",
       "      <td>Но однажды, когда она подошла к нему с ласк...</td>\n",
       "      <td>Gorky</td>\n",
       "      <td>[однажды, подойти, он, ласковый, речь, быстро,...</td>\n",
       "      <td>однажды подойти он ласковый речь быстро поверн...</td>\n",
       "    </tr>\n",
       "    <tr>\n",
       "      <th>20</th>\n",
       "      <td>Из сеней вышли двое понятых — старый литейщик ...</td>\n",
       "      <td>Gorky</td>\n",
       "      <td>[сени, выйти, двое, понять, старый, литейщик, ...</td>\n",
       "      <td>сени выйти двое понять старый литейщик тверяк ...</td>\n",
       "    </tr>\n",
       "    <tr>\n",
       "      <th>21</th>\n",
       "      <td>Мать улыбнулась</td>\n",
       "      <td>Gorky</td>\n",
       "      <td>[мать, улыбнуться]</td>\n",
       "      <td>мать улыбнуться</td>\n",
       "    </tr>\n",
       "    <tr>\n",
       "      <th>22</th>\n",
       "      <td>В то воскресенье, с жандармами</td>\n",
       "      <td>Gorky</td>\n",
       "      <td>[воскресение, жандарм]</td>\n",
       "      <td>воскресение жандарм</td>\n",
       "    </tr>\n",
       "    <tr>\n",
       "      <th>23</th>\n",
       "      <td>Когда я сказал ему, что, на мой взгляд, он не ...</td>\n",
       "      <td>Gorky</td>\n",
       "      <td>[сказать, взгляд, уметь, писать, стих, нужно, ...</td>\n",
       "      <td>сказать взгляд уметь писать стих нужно учиться...</td>\n",
       "    </tr>\n",
       "    <tr>\n",
       "      <th>24</th>\n",
       "      <td>— А не четыреста, как сказал вам</td>\n",
       "      <td>Gorky</td>\n",
       "      <td>[четыреста, сказать]</td>\n",
       "      <td>четыреста сказать</td>\n",
       "    </tr>\n",
       "    <tr>\n",
       "      <th>25</th>\n",
       "      <td>Вот приходит он ночью в сад, в беседку, как м...</td>\n",
       "      <td>Gorky</td>\n",
       "      <td>[приходить, ночью, сад, беседка, уговориться, ...</td>\n",
       "      <td>приходить ночью сад беседка уговориться … давн...</td>\n",
       "    </tr>\n",
       "    <tr>\n",
       "      <th>26</th>\n",
       "      <td>Лучший слесарь на фабрике и первый силач в сл...</td>\n",
       "      <td>Gorky</td>\n",
       "      <td>[хороший, слесарить, фабрика, первый, силач, с...</td>\n",
       "      <td>хороший слесарить фабрика первый силач слободк...</td>\n",
       "    </tr>\n",
       "    <tr>\n",
       "      <th>27</th>\n",
       "      <td>Бодрая, словно кошка, Нунча наклонилась над не...</td>\n",
       "      <td>Gorky</td>\n",
       "      <td>[бодрый, словно, кошка, нунч, наклониться, она...</td>\n",
       "      <td>бодрый словно кошка нунч наклониться она смеят...</td>\n",
       "    </tr>\n",
       "    <tr>\n",
       "      <th>28</th>\n",
       "      <td>Иногда откуда-то налетал порыв ветра; он тихо...</td>\n",
       "      <td>Gorky</td>\n",
       "      <td>[откуда, налетать, порыв, ветер, тихо, выть, в...</td>\n",
       "      <td>откуда налетать порыв ветер тихо выть ветвь де...</td>\n",
       "    </tr>\n",
       "    <tr>\n",
       "      <th>29</th>\n",
       "      <td>Они поспорили, сдержанно и холодно, как спорят...</td>\n",
       "      <td>Gorky</td>\n",
       "      <td>[поспорить, сдержанно, холодно, спорить, челов...</td>\n",
       "      <td>поспорить сдержанно холодно спорить человек бо...</td>\n",
       "    </tr>\n",
       "    <tr>\n",
       "      <th>...</th>\n",
       "      <td>...</td>\n",
       "      <td>...</td>\n",
       "      <td>...</td>\n",
       "      <td>...</td>\n",
       "    </tr>\n",
       "    <tr>\n",
       "      <th>15457</th>\n",
       "      <td>После этого все и пошло прахом</td>\n",
       "      <td>Blok</td>\n",
       "      <td>[пойти, прах]</td>\n",
       "      <td>пойти прах</td>\n",
       "    </tr>\n",
       "    <tr>\n",
       "      <th>15458</th>\n",
       "      <td>И свидания над туманным озером еще больше наг...</td>\n",
       "      <td>Blok</td>\n",
       "      <td>[свидание, туманный, озеро, нагонять, скука, з...</td>\n",
       "      <td>свидание туманный озеро нагонять скука знать м...</td>\n",
       "    </tr>\n",
       "    <tr>\n",
       "      <th>15459</th>\n",
       "      <td>Руки мне режут телеграфные провода</td>\n",
       "      <td>Blok</td>\n",
       "      <td>[рука, резать, телеграфный, провод]</td>\n",
       "      <td>рука резать телеграфный провод</td>\n",
       "    </tr>\n",
       "    <tr>\n",
       "      <th>15460</th>\n",
       "      <td>Усталая душа присела у порога могилы</td>\n",
       "      <td>Blok</td>\n",
       "      <td>[усталый, душа, присесть, порог, могила]</td>\n",
       "      <td>усталый душа присесть порог могила</td>\n",
       "    </tr>\n",
       "    <tr>\n",
       "      <th>15461</th>\n",
       "      <td>Снег почти сошел; только под старыми елями се...</td>\n",
       "      <td>Blok</td>\n",
       "      <td>[снег, сойти, старый, ель, сереть, ледяной, ко...</td>\n",
       "      <td>снег сойти старый ель сереть ледяной корка</td>\n",
       "    </tr>\n",
       "    <tr>\n",
       "      <th>15462</th>\n",
       "      <td>Никакого ответа на его тоскливые жалобы</td>\n",
       "      <td>Blok</td>\n",
       "      <td>[никакой, ответ, тоскливый, жалоба]</td>\n",
       "      <td>никакой ответ тоскливый жалоба</td>\n",
       "    </tr>\n",
       "    <tr>\n",
       "      <th>15463</th>\n",
       "      <td>Приходи, любовь моя, приходи!    Ноябрь 19...</td>\n",
       "      <td>Blok</td>\n",
       "      <td>[приходить, любовь, приходить, ноябрь, 1906нит...</td>\n",
       "      <td>приходить любовь приходить ноябрь 1906нить сон...</td>\n",
       "    </tr>\n",
       "    <tr>\n",
       "      <th>15464</th>\n",
       "      <td>И приходят очень быстро, потому что всего тол...</td>\n",
       "      <td>Blok</td>\n",
       "      <td>[приходить, очень, быстро, viertdbtunde, четве...</td>\n",
       "      <td>приходить очень быстро viertdbtunde четверть ч...</td>\n",
       "    </tr>\n",
       "    <tr>\n",
       "      <th>15465</th>\n",
       "      <td>Густо колосится рожь, за нею - сырые стены го...</td>\n",
       "      <td>Blok</td>\n",
       "      <td>[густо, колоситься, рожь, она, сырой, стена, г...</td>\n",
       "      <td>густо колоситься рожь она сырой стена город за...</td>\n",
       "    </tr>\n",
       "    <tr>\n",
       "      <th>15466</th>\n",
       "      <td>И все долгие ночи было видно, как летел за ...</td>\n",
       "      <td>Blok</td>\n",
       "      <td>[долгий, ночь, видно, лететь, она, крутиться, ...</td>\n",
       "      <td>долгий ночь видно лететь она крутиться спотыка...</td>\n",
       "    </tr>\n",
       "    <tr>\n",
       "      <th>15467</th>\n",
       "      <td>Отчего же муравьиный царь так беспокоится, и ...</td>\n",
       "      <td>Blok</td>\n",
       "      <td>[отчий, муравьиный, царь, беспокоиться, отчий,...</td>\n",
       "      <td>отчий муравьиный царь беспокоиться отчий мужич...</td>\n",
       "    </tr>\n",
       "    <tr>\n",
       "      <th>15468</th>\n",
       "      <td>Мужики подхватили песню</td>\n",
       "      <td>Blok</td>\n",
       "      <td>[мужик, подхватить, песня]</td>\n",
       "      <td>мужик подхватить песня</td>\n",
       "    </tr>\n",
       "    <tr>\n",
       "      <th>15469</th>\n",
       "      <td>Уже из уст в уста переходило его имя, соедине...</td>\n",
       "      <td>Blok</td>\n",
       "      <td>[уста, уста, переходить, имя, соединить, имя, ...</td>\n",
       "      <td>уста уста переходить имя соединить имя весь не...</td>\n",
       "    </tr>\n",
       "    <tr>\n",
       "      <th>15470</th>\n",
       "      <td>И дева будет бесконечно ткать, вышивать пышны...</td>\n",
       "      <td>Blok</td>\n",
       "      <td>[дева, бесконечно, ткать, вышивать, пышный, уз...</td>\n",
       "      <td>дева бесконечно ткать вышивать пышный узор вос...</td>\n",
       "    </tr>\n",
       "    <tr>\n",
       "      <th>15471</th>\n",
       "      <td>Тогда погаснет ясный свет, и змея ударом хвос...</td>\n",
       "      <td>Blok</td>\n",
       "      <td>[погаснуть, ясный, свет, змея, удар, хвост, по...</td>\n",
       "      <td>погаснуть ясный свет змея удар хвост потушить ...</td>\n",
       "    </tr>\n",
       "    <tr>\n",
       "      <th>15472</th>\n",
       "      <td>Это - высокие стены, туго набитые хворостом; ...</td>\n",
       "      <td>Blok</td>\n",
       "      <td>[это, высокий, стена, туго, набитый, хворост, ...</td>\n",
       "      <td>это высокий стена туго набитый хворост они дер...</td>\n",
       "    </tr>\n",
       "    <tr>\n",
       "      <th>15473</th>\n",
       "      <td>- Как у вас мило, - непринужденно сказал я,...</td>\n",
       "      <td>Blok</td>\n",
       "      <td>[мило, непринуждённо, сказать, оглядывать, пол...</td>\n",
       "      <td>мило непринуждённо сказать оглядывать полка ма...</td>\n",
       "    </tr>\n",
       "    <tr>\n",
       "      <th>15474</th>\n",
       "      <td>Чужая красота дохнула на меня</td>\n",
       "      <td>Blok</td>\n",
       "      <td>[чужой, красота, дохнуть]</td>\n",
       "      <td>чужой красота дохнуть</td>\n",
       "    </tr>\n",
       "    <tr>\n",
       "      <th>15475</th>\n",
       "      <td>Разве здесь не пахнет опять этим муравьины...</td>\n",
       "      <td>Blok</td>\n",
       "      <td>[пахнуть, это, муравьиный, царь, особый, нежно...</td>\n",
       "      <td>пахнуть это муравьиный царь особый нежность ни...</td>\n",
       "    </tr>\n",
       "    <tr>\n",
       "      <th>15476</th>\n",
       "      <td>Так не коснулась сердца его измена</td>\n",
       "      <td>Blok</td>\n",
       "      <td>[коснуться, сердце, измена]</td>\n",
       "      <td>коснуться сердце измена</td>\n",
       "    </tr>\n",
       "    <tr>\n",
       "      <th>15477</th>\n",
       "      <td>Она - тоже розовая, и на кофточке ее приколот...</td>\n",
       "      <td>Blok</td>\n",
       "      <td>[розовый, кофточка, приколоть, роза, роза, при...</td>\n",
       "      <td>розовый кофточка приколоть роза роза прикрыват...</td>\n",
       "    </tr>\n",
       "    <tr>\n",
       "      <th>15478</th>\n",
       "      <td>Дырявые и мертвые ее глаза смотрят все еще нежно</td>\n",
       "      <td>Blok</td>\n",
       "      <td>[дырявый, мёртвый, глаз, смотреть, нежно]</td>\n",
       "      <td>дырявый мёртвый глаз смотреть нежно</td>\n",
       "    </tr>\n",
       "    <tr>\n",
       "      <th>15479</th>\n",
       "      <td>Придет к тебе - тонкая, хорошенькая дочь прив...</td>\n",
       "      <td>Blok</td>\n",
       "      <td>[прийти, ты, тонкий, хорошенький, дочь, привра...</td>\n",
       "      <td>прийти ты тонкий хорошенький дочь привратник</td>\n",
       "    </tr>\n",
       "    <tr>\n",
       "      <th>15480</th>\n",
       "      <td>Он знал, что я - осведомленный журналист; я ж...</td>\n",
       "      <td>Blok</td>\n",
       "      <td>[знать, осведомить, журналист, знать, командов...</td>\n",
       "      <td>знать осведомить журналист знать командовать о...</td>\n",
       "    </tr>\n",
       "    <tr>\n",
       "      <th>15481</th>\n",
       "      <td>Идешь мимо целебных ключей, где закупоривают ...</td>\n",
       "      <td>Blok</td>\n",
       "      <td>[идти, мимо, целебный, ключ, закупоривать, бут...</td>\n",
       "      <td>идти мимо целебный ключ закупоривать бутылка в...</td>\n",
       "    </tr>\n",
       "    <tr>\n",
       "      <th>15482</th>\n",
       "      <td>Вот, наконец, высокий, узкий паровоз; но уж...</td>\n",
       "      <td>Blok</td>\n",
       "      <td>[высокий, узкий, паровоз, радость, устать, хол...</td>\n",
       "      <td>высокий узкий паровоз радость устать холодно с...</td>\n",
       "    </tr>\n",
       "    <tr>\n",
       "      <th>15483</th>\n",
       "      <td>Нежнейшее остается чужим</td>\n",
       "      <td>Blok</td>\n",
       "      <td>[нежный, оставаться, чужой]</td>\n",
       "      <td>нежный оставаться чужой</td>\n",
       "    </tr>\n",
       "    <tr>\n",
       "      <th>15484</th>\n",
       "      <td>Едкий городской дым кутает меня в грязную шубу</td>\n",
       "      <td>Blok</td>\n",
       "      <td>[едкий, городской, дым, кутать, грязный, шуба]</td>\n",
       "      <td>едкий городской дым кутать грязный шуба</td>\n",
       "    </tr>\n",
       "    <tr>\n",
       "      <th>15485</th>\n",
       "      <td>И, целуя ее осыпанную кольцами руку, он обжиг...</td>\n",
       "      <td>Blok</td>\n",
       "      <td>[целовать, осыпать, кольцо, рука, обжигать, ус...</td>\n",
       "      <td>целовать осыпать кольцо рука обжигать уста при...</td>\n",
       "    </tr>\n",
       "    <tr>\n",
       "      <th>15486</th>\n",
       "      <td>Это - те самые химерические уродцы, которые с...</td>\n",
       "      <td>Blok</td>\n",
       "      <td>[это, тот, самый, химерический, уродец, которы...</td>\n",
       "      <td>это тот самый химерический уродец который сиде...</td>\n",
       "    </tr>\n",
       "  </tbody>\n",
       "</table>\n",
       "<p>15487 rows × 4 columns</p>\n",
       "</div>"
      ],
      "text/plain": [
       "                                                sentence author  \\\n",
       "0       Кроме иголок, еще разные железины в ртуть кла...  Gorky   \n",
       "1         Она опустилась, помолчала, потирая лоб и щё...  Gorky   \n",
       "2      — А вот мы их устраним, — если сойдемся с вами...  Gorky   \n",
       "3                                          — Рыбак? А он  Gorky   \n",
       "4                                       — И облака бегут  Gorky   \n",
       "5                         Ничего не знаю, а — есть обман  Gorky   \n",
       "6                           — Верно! — прервал его Рыбин  Gorky   \n",
       "7       Под полатями висели пучки трав: зверобой, бук...  Gorky   \n",
       "8      Воздух был пропитан острым запахом моря и жирн...  Gorky   \n",
       "9                        — Хорошее дело!   Молчали долго  Gorky   \n",
       "10     — Пропился, что ли?— Окончательно пропился, ма...  Gorky   \n",
       "11      Луна освещала ее сухие, потрескавшиеся губы, ...  Gorky   \n",
       "12      - Уж я по лицу да и по всему вижу, что нехоро...  Gorky   \n",
       "13      Смотри — я посчитаю!Алешка(отворив дверь, кри...  Gorky   \n",
       "14        — Бога видеть человеку не дано — ослепнешь;...  Gorky   \n",
       "15     Силой, которая всю жизнь крепко держала и держ...  Gorky   \n",
       "16      и, если захотим чего, - достанем! Да, мы с не...  Gorky   \n",
       "17      Дьякон вдруг как-то напрягся, пошлепал губами...  Gorky   \n",
       "18      В тишине ночи ясно разносилось шуршание колес...  Gorky   \n",
       "19        Но однажды, когда она подошла к нему с ласк...  Gorky   \n",
       "20     Из сеней вышли двое понятых — старый литейщик ...  Gorky   \n",
       "21                                       Мать улыбнулась  Gorky   \n",
       "22                        В то воскресенье, с жандармами  Gorky   \n",
       "23     Когда я сказал ему, что, на мой взгляд, он не ...  Gorky   \n",
       "24                      — А не четыреста, как сказал вам  Gorky   \n",
       "25      Вот приходит он ночью в сад, в беседку, как м...  Gorky   \n",
       "26      Лучший слесарь на фабрике и первый силач в сл...  Gorky   \n",
       "27     Бодрая, словно кошка, Нунча наклонилась над не...  Gorky   \n",
       "28      Иногда откуда-то налетал порыв ветра; он тихо...  Gorky   \n",
       "29     Они поспорили, сдержанно и холодно, как спорят...  Gorky   \n",
       "...                                                  ...    ...   \n",
       "15457                     После этого все и пошло прахом   Blok   \n",
       "15458   И свидания над туманным озером еще больше наг...   Blok   \n",
       "15459                 Руки мне режут телеграфные провода   Blok   \n",
       "15460               Усталая душа присела у порога могилы   Blok   \n",
       "15461   Снег почти сошел; только под старыми елями се...   Blok   \n",
       "15462            Никакого ответа на его тоскливые жалобы   Blok   \n",
       "15463      Приходи, любовь моя, приходи!    Ноябрь 19...   Blok   \n",
       "15464   И приходят очень быстро, потому что всего тол...   Blok   \n",
       "15465   Густо колосится рожь, за нею - сырые стены го...   Blok   \n",
       "15466     И все долгие ночи было видно, как летел за ...   Blok   \n",
       "15467   Отчего же муравьиный царь так беспокоится, и ...   Blok   \n",
       "15468                            Мужики подхватили песню   Blok   \n",
       "15469   Уже из уст в уста переходило его имя, соедине...   Blok   \n",
       "15470   И дева будет бесконечно ткать, вышивать пышны...   Blok   \n",
       "15471   Тогда погаснет ясный свет, и змея ударом хвос...   Blok   \n",
       "15472   Это - высокие стены, туго набитые хворостом; ...   Blok   \n",
       "15473     - Как у вас мило, - непринужденно сказал я,...   Blok   \n",
       "15474                      Чужая красота дохнула на меня   Blok   \n",
       "15475      Разве здесь не пахнет опять этим муравьины...   Blok   \n",
       "15476                 Так не коснулась сердца его измена   Blok   \n",
       "15477   Она - тоже розовая, и на кофточке ее приколот...   Blok   \n",
       "15478   Дырявые и мертвые ее глаза смотрят все еще нежно   Blok   \n",
       "15479   Придет к тебе - тонкая, хорошенькая дочь прив...   Blok   \n",
       "15480   Он знал, что я - осведомленный журналист; я ж...   Blok   \n",
       "15481   Идешь мимо целебных ключей, где закупоривают ...   Blok   \n",
       "15482     Вот, наконец, высокий, узкий паровоз; но уж...   Blok   \n",
       "15483                           Нежнейшее остается чужим   Blok   \n",
       "15484     Едкий городской дым кутает меня в грязную шубу   Blok   \n",
       "15485   И, целуя ее осыпанную кольцами руку, он обжиг...   Blok   \n",
       "15486   Это - те самые химерические уродцы, которые с...   Blok   \n",
       "\n",
       "                                            preprocessed  \\\n",
       "0      [кроме, иголка, разный, железина, ртуть, класт...   \n",
       "1      [опуститься, помолчать, потирать, лоб, щека, с...   \n",
       "2         [устранимый, сойтись, вы, пообещать, петунник]   \n",
       "3                                                [рыбак]   \n",
       "4                                       [облако, бежать]   \n",
       "5                                         [знать, обман]   \n",
       "6                              [верно, прервать, рыбина]   \n",
       "7      [полати, висеть, пучок, трава, зверобой, букви...   \n",
       "8      [воздух, пропитать, острый, запах, море, жирны...   \n",
       "9                        [хороший, дело, молчать, долго]   \n",
       "10     [пропиться, ?—, окончательно, пропиться, мать,...   \n",
       "11     [луна, освещать, сухой, потрескаться, губа, за...   \n",
       "12     [лицо, весь, видеть, нехорошо, ты, житься, ска...   \n",
       "13     [смотреть, посчитать, алёшка, отворить, дверь,...   \n",
       "14     [бог, видеть, человек, дать, ослепнуть, святой...   \n",
       "15     [сила, который, жизнь, крепко, держать, держат...   \n",
       "16                          [захотеть, достать, достать]   \n",
       "17     [дьякон, напрячься, пошлёпать, губа, потереть,...   \n",
       "18     [тишина, ночь, ясно, разноситься, шуршание, ко...   \n",
       "19     [однажды, подойти, он, ласковый, речь, быстро,...   \n",
       "20     [сени, выйти, двое, понять, старый, литейщик, ...   \n",
       "21                                    [мать, улыбнуться]   \n",
       "22                                [воскресение, жандарм]   \n",
       "23     [сказать, взгляд, уметь, писать, стих, нужно, ...   \n",
       "24                                  [четыреста, сказать]   \n",
       "25     [приходить, ночью, сад, беседка, уговориться, ...   \n",
       "26     [хороший, слесарить, фабрика, первый, силач, с...   \n",
       "27     [бодрый, словно, кошка, нунч, наклониться, она...   \n",
       "28     [откуда, налетать, порыв, ветер, тихо, выть, в...   \n",
       "29     [поспорить, сдержанно, холодно, спорить, челов...   \n",
       "...                                                  ...   \n",
       "15457                                      [пойти, прах]   \n",
       "15458  [свидание, туманный, озеро, нагонять, скука, з...   \n",
       "15459                [рука, резать, телеграфный, провод]   \n",
       "15460           [усталый, душа, присесть, порог, могила]   \n",
       "15461  [снег, сойти, старый, ель, сереть, ледяной, ко...   \n",
       "15462                [никакой, ответ, тоскливый, жалоба]   \n",
       "15463  [приходить, любовь, приходить, ноябрь, 1906нит...   \n",
       "15464  [приходить, очень, быстро, viertdbtunde, четве...   \n",
       "15465  [густо, колоситься, рожь, она, сырой, стена, г...   \n",
       "15466  [долгий, ночь, видно, лететь, она, крутиться, ...   \n",
       "15467  [отчий, муравьиный, царь, беспокоиться, отчий,...   \n",
       "15468                         [мужик, подхватить, песня]   \n",
       "15469  [уста, уста, переходить, имя, соединить, имя, ...   \n",
       "15470  [дева, бесконечно, ткать, вышивать, пышный, уз...   \n",
       "15471  [погаснуть, ясный, свет, змея, удар, хвост, по...   \n",
       "15472  [это, высокий, стена, туго, набитый, хворост, ...   \n",
       "15473  [мило, непринуждённо, сказать, оглядывать, пол...   \n",
       "15474                          [чужой, красота, дохнуть]   \n",
       "15475  [пахнуть, это, муравьиный, царь, особый, нежно...   \n",
       "15476                        [коснуться, сердце, измена]   \n",
       "15477  [розовый, кофточка, приколоть, роза, роза, при...   \n",
       "15478          [дырявый, мёртвый, глаз, смотреть, нежно]   \n",
       "15479  [прийти, ты, тонкий, хорошенький, дочь, привра...   \n",
       "15480  [знать, осведомить, журналист, знать, командов...   \n",
       "15481  [идти, мимо, целебный, ключ, закупоривать, бут...   \n",
       "15482  [высокий, узкий, паровоз, радость, устать, хол...   \n",
       "15483                        [нежный, оставаться, чужой]   \n",
       "15484     [едкий, городской, дым, кутать, грязный, шуба]   \n",
       "15485  [целовать, осыпать, кольцо, рука, обжигать, ус...   \n",
       "15486  [это, тот, самый, химерический, уродец, которы...   \n",
       "\n",
       "                                      preprocessed_texts  \n",
       "0      кроме иголка разный железина ртуть класть разн...  \n",
       "1      опуститься помолчать потирать лоб щека спросит...  \n",
       "2               устранимый сойтись вы пообещать петунник  \n",
       "3                                                  рыбак  \n",
       "4                                          облако бежать  \n",
       "5                                            знать обман  \n",
       "6                                  верно прервать рыбина  \n",
       "7      полати висеть пучок трава зверобой буквица мед...  \n",
       "8      воздух пропитать острый запах море жирный испа...  \n",
       "9                             хороший дело молчать долго  \n",
       "10     пропиться ?— окончательно пропиться мать !— эк...  \n",
       "11     луна освещать сухой потрескаться губа заострит...  \n",
       "12     лицо весь видеть нехорошо ты житься сказать фо...  \n",
       "13      смотреть посчитать алёшка отворить дверь кричать  \n",
       "14     бог видеть человек дать ослепнуть святой гляде...  \n",
       "15     сила который жизнь крепко держать держать земл...  \n",
       "16                              захотеть достать достать  \n",
       "17     дьякон напрячься пошлёпать губа потереть лоб д...  \n",
       "18     тишина ночь ясно разноситься шуршание колесо з...  \n",
       "19     однажды подойти он ласковый речь быстро поверн...  \n",
       "20     сени выйти двое понять старый литейщик тверяк ...  \n",
       "21                                       мать улыбнуться  \n",
       "22                                   воскресение жандарм  \n",
       "23     сказать взгляд уметь писать стих нужно учиться...  \n",
       "24                                     четыреста сказать  \n",
       "25     приходить ночью сад беседка уговориться … давн...  \n",
       "26     хороший слесарить фабрика первый силач слободк...  \n",
       "27     бодрый словно кошка нунч наклониться она смеят...  \n",
       "28     откуда налетать порыв ветер тихо выть ветвь де...  \n",
       "29     поспорить сдержанно холодно спорить человек бо...  \n",
       "...                                                  ...  \n",
       "15457                                         пойти прах  \n",
       "15458  свидание туманный озеро нагонять скука знать м...  \n",
       "15459                     рука резать телеграфный провод  \n",
       "15460                 усталый душа присесть порог могила  \n",
       "15461         снег сойти старый ель сереть ледяной корка  \n",
       "15462                     никакой ответ тоскливый жалоба  \n",
       "15463  приходить любовь приходить ноябрь 1906нить сон...  \n",
       "15464  приходить очень быстро viertdbtunde четверть ч...  \n",
       "15465  густо колоситься рожь она сырой стена город за...  \n",
       "15466  долгий ночь видно лететь она крутиться спотыка...  \n",
       "15467  отчий муравьиный царь беспокоиться отчий мужич...  \n",
       "15468                             мужик подхватить песня  \n",
       "15469  уста уста переходить имя соединить имя весь не...  \n",
       "15470  дева бесконечно ткать вышивать пышный узор вос...  \n",
       "15471  погаснуть ясный свет змея удар хвост потушить ...  \n",
       "15472  это высокий стена туго набитый хворост они дер...  \n",
       "15473  мило непринуждённо сказать оглядывать полка ма...  \n",
       "15474                              чужой красота дохнуть  \n",
       "15475  пахнуть это муравьиный царь особый нежность ни...  \n",
       "15476                            коснуться сердце измена  \n",
       "15477  розовый кофточка приколоть роза роза прикрыват...  \n",
       "15478                дырявый мёртвый глаз смотреть нежно  \n",
       "15479       прийти ты тонкий хорошенький дочь привратник  \n",
       "15480  знать осведомить журналист знать командовать о...  \n",
       "15481  идти мимо целебный ключ закупоривать бутылка в...  \n",
       "15482  высокий узкий паровоз радость устать холодно с...  \n",
       "15483                            нежный оставаться чужой  \n",
       "15484            едкий городской дым кутать грязный шуба  \n",
       "15485  целовать осыпать кольцо рука обжигать уста при...  \n",
       "15486  это тот самый химерический уродец который сиде...  \n",
       "\n",
       "[15487 rows x 4 columns]"
      ]
     },
     "execution_count": 46,
     "metadata": {},
     "output_type": "execute_result"
    }
   ],
   "source": [
    "data"
   ]
  },
  {
   "cell_type": "code",
   "execution_count": 47,
   "metadata": {},
   "outputs": [
    {
     "data": {
      "text/plain": [
       "0        кроме иголка разный железина ртуть класть разн...\n",
       "1        опуститься помолчать потирать лоб щека спросит...\n",
       "2                 устранимый сойтись вы пообещать петунник\n",
       "3                                                    рыбак\n",
       "4                                            облако бежать\n",
       "5                                              знать обман\n",
       "6                                    верно прервать рыбина\n",
       "7        полати висеть пучок трава зверобой буквица мед...\n",
       "8        воздух пропитать острый запах море жирный испа...\n",
       "9                               хороший дело молчать долго\n",
       "10       пропиться ?— окончательно пропиться мать !— эк...\n",
       "11       луна освещать сухой потрескаться губа заострит...\n",
       "12       лицо весь видеть нехорошо ты житься сказать фо...\n",
       "13        смотреть посчитать алёшка отворить дверь кричать\n",
       "14       бог видеть человек дать ослепнуть святой гляде...\n",
       "15       сила который жизнь крепко держать держать земл...\n",
       "16                                захотеть достать достать\n",
       "17       дьякон напрячься пошлёпать губа потереть лоб д...\n",
       "18       тишина ночь ясно разноситься шуршание колесо з...\n",
       "19       однажды подойти он ласковый речь быстро поверн...\n",
       "20       сени выйти двое понять старый литейщик тверяк ...\n",
       "21                                         мать улыбнуться\n",
       "22                                     воскресение жандарм\n",
       "23       сказать взгляд уметь писать стих нужно учиться...\n",
       "24                                       четыреста сказать\n",
       "25       приходить ночью сад беседка уговориться … давн...\n",
       "26       хороший слесарить фабрика первый силач слободк...\n",
       "27       бодрый словно кошка нунч наклониться она смеят...\n",
       "28       откуда налетать порыв ветер тихо выть ветвь де...\n",
       "29       поспорить сдержанно холодно спорить человек бо...\n",
       "                               ...                        \n",
       "15457                                           пойти прах\n",
       "15458    свидание туманный озеро нагонять скука знать м...\n",
       "15459                       рука резать телеграфный провод\n",
       "15460                   усталый душа присесть порог могила\n",
       "15461           снег сойти старый ель сереть ледяной корка\n",
       "15462                       никакой ответ тоскливый жалоба\n",
       "15463    приходить любовь приходить ноябрь 1906нить сон...\n",
       "15464    приходить очень быстро viertdbtunde четверть ч...\n",
       "15465    густо колоситься рожь она сырой стена город за...\n",
       "15466    долгий ночь видно лететь она крутиться спотыка...\n",
       "15467    отчий муравьиный царь беспокоиться отчий мужич...\n",
       "15468                               мужик подхватить песня\n",
       "15469    уста уста переходить имя соединить имя весь не...\n",
       "15470    дева бесконечно ткать вышивать пышный узор вос...\n",
       "15471    погаснуть ясный свет змея удар хвост потушить ...\n",
       "15472    это высокий стена туго набитый хворост они дер...\n",
       "15473    мило непринуждённо сказать оглядывать полка ма...\n",
       "15474                                чужой красота дохнуть\n",
       "15475    пахнуть это муравьиный царь особый нежность ни...\n",
       "15476                              коснуться сердце измена\n",
       "15477    розовый кофточка приколоть роза роза прикрыват...\n",
       "15478                  дырявый мёртвый глаз смотреть нежно\n",
       "15479         прийти ты тонкий хорошенький дочь привратник\n",
       "15480    знать осведомить журналист знать командовать о...\n",
       "15481    идти мимо целебный ключ закупоривать бутылка в...\n",
       "15482    высокий узкий паровоз радость устать холодно с...\n",
       "15483                              нежный оставаться чужой\n",
       "15484              едкий городской дым кутать грязный шуба\n",
       "15485    целовать осыпать кольцо рука обжигать уста при...\n",
       "15486    это тот самый химерический уродец который сиде...\n",
       "Name: preprocessed_texts, Length: 15487, dtype: object"
      ]
     },
     "execution_count": 47,
     "metadata": {},
     "output_type": "execute_result"
    }
   ],
   "source": [
    "data['preprocessed_texts']"
   ]
  },
  {
   "cell_type": "markdown",
   "metadata": {},
   "source": [
    "Bag of words"
   ]
  },
  {
   "cell_type": "code",
   "execution_count": 48,
   "metadata": {},
   "outputs": [],
   "source": [
    "from sklearn.feature_extraction.text import CountVectorizer\n",
    "vectorizer = CountVectorizer(max_features = 50)\n",
    "vectorizer.fit(data['preprocessed_texts'].values.tolist())\n",
    "X = vectorizer.transform(data['preprocessed_texts'])"
   ]
  },
  {
   "cell_type": "markdown",
   "metadata": {},
   "source": [
    "tf-idf"
   ]
  },
  {
   "cell_type": "code",
   "execution_count": 49,
   "metadata": {},
   "outputs": [],
   "source": [
    "from sklearn.feature_extraction.text import TfidfVectorizer, TfidfTransformer\n",
    "vectorizer2 = TfidfVectorizer(max_features = 100) # select the top 100 words\n",
    "vectorizer2.fit(data['preprocessed_texts'])\n",
    "X2 = vectorizer2.transform(data['preprocessed_texts'])"
   ]
  },
  {
   "cell_type": "markdown",
   "metadata": {},
   "source": [
    "##### Теперь у нас есть матрицы для каждого предложения, которые показывают частоту встречаемости слов в предложениях. К ним можно применять последующие алгоритмы классфикации. "
   ]
  },
  {
   "cell_type": "code",
   "execution_count": 50,
   "metadata": {},
   "outputs": [
    {
     "name": "stdout",
     "output_type": "stream",
     "text": [
      "['быть', 'ваш', 'весь', 'видеть', 'время', 'всё', 'глаз', 'говорить', 'год', 'голова', 'господин', 'дело', 'день', 'дом', 'друг', 'другой', 'думать', 'душа', 'жизнь', 'жить']\n",
      "['бог', 'быть', 'ваш', 'весь', 'взять', 'видеть', 'время', 'всякий', 'всё', 'выйти', 'глаз', 'глядеть', 'говорить', 'год', 'голова', 'голос', 'город', 'господин', 'дать', 'дверь']\n"
     ]
    }
   ],
   "source": [
    "print(vectorizer.get_feature_names()[:20])\n",
    "print(vectorizer2.get_feature_names()[:20])"
   ]
  },
  {
   "cell_type": "markdown",
   "metadata": {},
   "source": [
    "##### Получается, что есть ставить разные параметры для max_features, то получаем и разные матрицы, так как списки популярных слов немного различаются"
   ]
  },
  {
   "cell_type": "markdown",
   "metadata": {
    "id": "LuTi3rvnDvZL"
   },
   "source": [
    "###  Binary classification\n",
    "\n",
    "#### 8. [2 point] Train model using Logistic Regression (your own) and SVC (SVM can be taken from sklearn) \n",
    "\n",
    "##### 1. [1 point]\n",
    "* choose *two* authors from the dataset that you have formed in the previous task\n",
    "* check the balance of the classes\n",
    "* divide the data into train and test samples with 3/4 split rate (don't forget to fix the random state)\n",
    "* train the models using cross validation\n",
    "* plot confusion matrix for train and test samples\n",
    "* compute all possible and relevant metrics for test sample (useful to check the seminars 5 and 6, use sklearn) \n",
    "* make conclusions about the performance of your models\n",
    "\n",
    "##### 2. [1 point]\n",
    "* using GridSearchCV - find the best parameters for the models (by ROC_AUC score)\n",
    "* make several plots to address the dependence between ROC_AUC score and parameters\n",
    "* make conclusions about the models\n",
    "\n",
    "**HINT:** In the task 8.2 you should analyze models for binary classification task. How do you think the AUC_ROC should be high? Is the 0.6 enough for us?"
   ]
  },
  {
   "cell_type": "markdown",
   "metadata": {},
   "source": [
    "### 1."
   ]
  },
  {
   "cell_type": "code",
   "execution_count": 51,
   "metadata": {},
   "outputs": [],
   "source": [
    "from sklearn.metrics import *"
   ]
  },
  {
   "cell_type": "code",
   "execution_count": 52,
   "metadata": {
    "id": "XZUP1HqFDvZL"
   },
   "outputs": [],
   "source": [
    "data2 = data[(data['author'] =='Herzen') | (data['author'] == 'Blok')]"
   ]
  },
  {
   "cell_type": "code",
   "execution_count": 53,
   "metadata": {},
   "outputs": [
    {
     "name": "stdout",
     "output_type": "stream",
     "text": [
      "2.3341584158415842\n",
      "0.42841993637327674\n"
     ]
    }
   ],
   "source": [
    "balance_coef = data[data['author'] =='Herzen'].shape[0]/data[data['author'] =='Blok'].shape[0]\n",
    "print(balance_coef)\n",
    "print(1/balance_coef)"
   ]
  },
  {
   "cell_type": "code",
   "execution_count": 54,
   "metadata": {},
   "outputs": [
    {
     "data": {
      "text/html": [
       "<div>\n",
       "<style scoped>\n",
       "    .dataframe tbody tr th:only-of-type {\n",
       "        vertical-align: middle;\n",
       "    }\n",
       "\n",
       "    .dataframe tbody tr th {\n",
       "        vertical-align: top;\n",
       "    }\n",
       "\n",
       "    .dataframe thead th {\n",
       "        text-align: right;\n",
       "    }\n",
       "</style>\n",
       "<table border=\"1\" class=\"dataframe\">\n",
       "  <thead>\n",
       "    <tr style=\"text-align: right;\">\n",
       "      <th></th>\n",
       "      <th>sentence</th>\n",
       "      <th>author</th>\n",
       "      <th>preprocessed</th>\n",
       "      <th>preprocessed_texts</th>\n",
       "    </tr>\n",
       "  </thead>\n",
       "  <tbody>\n",
       "    <tr>\n",
       "      <th>14140</th>\n",
       "      <td>- Эки дела! - сказал столоначальник, на кот...</td>\n",
       "      <td>Herzen</td>\n",
       "      <td>[эки, дело, сказать, столоначальник, который, ...</td>\n",
       "      <td>эки дело сказать столоначальник который расска...</td>\n",
       "    </tr>\n",
       "    <tr>\n",
       "      <th>14141</th>\n",
       "      <td>Мало знакомая с врачебной наукой, она не тол...</td>\n",
       "      <td>Herzen</td>\n",
       "      <td>[мало, знакомый, врачебный, наука, неограничив...</td>\n",
       "      <td>мало знакомый врачебный наука неограничивать р...</td>\n",
       "    </tr>\n",
       "    <tr>\n",
       "      <th>14142</th>\n",
       "      <td>При сем не излишним  считаю предупредить вас,...</td>\n",
       "      <td>Herzen</td>\n",
       "      <td>[сем, излишний, считать, предупредить, менее, ...</td>\n",
       "      <td>сем излишний считать предупредить менее литера...</td>\n",
       "    </tr>\n",
       "    <tr>\n",
       "      <th>14143</th>\n",
       "      <td>Так достигли господского дома, тутдожидались ...</td>\n",
       "      <td>Herzen</td>\n",
       "      <td>[достигнуть, господский, дом, тутдожидаться, с...</td>\n",
       "      <td>достигнуть господский дом тутдожидаться священ...</td>\n",
       "    </tr>\n",
       "    <tr>\n",
       "      <th>14144</th>\n",
       "      <td>По счастию, в Европе нравы и долгое развитие ...</td>\n",
       "      <td>Herzen</td>\n",
       "      <td>[счастие, европа, нрав, долгий, развитие, восп...</td>\n",
       "      <td>счастие европа нрав долгий развитие восполнять...</td>\n",
       "    </tr>\n",
       "  </tbody>\n",
       "</table>\n",
       "</div>"
      ],
      "text/plain": [
       "                                                sentence  author  \\\n",
       "14140     - Эки дела! - сказал столоначальник, на кот...  Herzen   \n",
       "14141    Мало знакомая с врачебной наукой, она не тол...  Herzen   \n",
       "14142   При сем не излишним  считаю предупредить вас,...  Herzen   \n",
       "14143   Так достигли господского дома, тутдожидались ...  Herzen   \n",
       "14144   По счастию, в Европе нравы и долгое развитие ...  Herzen   \n",
       "\n",
       "                                            preprocessed  \\\n",
       "14140  [эки, дело, сказать, столоначальник, который, ...   \n",
       "14141  [мало, знакомый, врачебный, наука, неограничив...   \n",
       "14142  [сем, излишний, считать, предупредить, менее, ...   \n",
       "14143  [достигнуть, господский, дом, тутдожидаться, с...   \n",
       "14144  [счастие, европа, нрав, долгий, развитие, восп...   \n",
       "\n",
       "                                      preprocessed_texts  \n",
       "14140  эки дело сказать столоначальник который расска...  \n",
       "14141  мало знакомый врачебный наука неограничивать р...  \n",
       "14142  сем излишний считать предупредить менее литера...  \n",
       "14143  достигнуть господский дом тутдожидаться священ...  \n",
       "14144  счастие европа нрав долгий развитие восполнять...  "
      ]
     },
     "execution_count": 54,
     "metadata": {},
     "output_type": "execute_result"
    }
   ],
   "source": [
    "data2.head()"
   ]
  },
  {
   "cell_type": "code",
   "execution_count": 55,
   "metadata": {},
   "outputs": [],
   "source": [
    "train_texts, test_texts, train_author, test_author = train_test_split(data2['preprocessed_texts'], data2['author'], test_size=0.25, random_state=42)"
   ]
  },
  {
   "cell_type": "markdown",
   "metadata": {},
   "source": [
    "Видно, что датасет не сильно несбалансированный, но тем не менее отчетливо наблюдается преобладание количества строк Горького"
   ]
  },
  {
   "cell_type": "markdown",
   "metadata": {},
   "source": [
    "Будем использовать tf-idf, так как особой разницы в результате нет (убедились в предыдцщем задании). В основном все зависит от параметра max feature."
   ]
  },
  {
   "cell_type": "code",
   "execution_count": 56,
   "metadata": {},
   "outputs": [],
   "source": [
    "def show_results(test_y, pred, proba):\n",
    "    print(\"Precision: {0:6.2f}\".format(precision_score(test_y, pred, average='macro')))\n",
    "    print(\"Recall: {0:6.2f}\".format(recall_score(test_y, pred, average='macro')))\n",
    "    print(\"F1-measure: {0:6.2f}\".format(f1_score(test_y, pred, average='macro')))\n",
    "    print(\"Accuracy: {0:6.2f}\".format(accuracy_score(test_y, pred)))\n",
    "    print(\"ROC-AUC  =  {0:6.2f}\".format(roc_auc_score(test_y, proba)))\n",
    "    print('\\n')\n",
    "    labels = ['negative','positive']\n",
    "\n",
    "    #classification_report\n",
    "    sns.heatmap(data=confusion_matrix(test_y, pred), annot=True, fmt=\"d\", cbar=False, xticklabels=labels, yticklabels=labels)\n",
    "    plt.title(\"Confusion matrix \")\n",
    "    plt.show()"
   ]
  },
  {
   "cell_type": "code",
   "execution_count": 57,
   "metadata": {},
   "outputs": [],
   "source": [
    "vectorizer = TfidfVectorizer(max_features = 100) \n",
    "vectorizer.fit(train_texts)\n",
    "train_X = vectorizer.transform(train_texts)\n",
    "test_X = vectorizer.transform(test_texts)"
   ]
  },
  {
   "cell_type": "code",
   "execution_count": 58,
   "metadata": {},
   "outputs": [],
   "source": [
    "train_y = [-1 if x == 'Herzen'  else 1 for x in train_author]\n",
    "test_y = [-1 if x == 'Herzen'  else 1 for x in test_author]"
   ]
  },
  {
   "cell_type": "code",
   "execution_count": 59,
   "metadata": {},
   "outputs": [],
   "source": [
    "train_X = np.array(train_X.todense())\n",
    "test_X = np.array(test_X.todense())\n",
    "train_y = np.array(train_y)\n",
    "test_y = np.array(test_y)"
   ]
  },
  {
   "cell_type": "code",
   "execution_count": 60,
   "metadata": {},
   "outputs": [
    {
     "name": "stdout",
     "output_type": "stream",
     "text": [
      "(1010, 100)\n",
      "(1010,)\n"
     ]
    }
   ],
   "source": [
    "print(train_X.shape)\n",
    "print(train_y.shape)"
   ]
  },
  {
   "cell_type": "code",
   "execution_count": 61,
   "metadata": {},
   "outputs": [],
   "source": [
    "from sklearn.model_selection import GridSearchCV"
   ]
  },
  {
   "cell_type": "code",
   "execution_count": 62,
   "metadata": {},
   "outputs": [
    {
     "name": "stdout",
     "output_type": "stream",
     "text": [
      "Best parameters:  {'beta': 0.0, 'gamma': 0.0, 'max_iter': 1500}\n"
     ]
    }
   ],
   "source": [
    "parameters = {'beta': np.array([0, 0.5, 1]), 'gamma' : np.array([0, 0.5, 1]),\\\n",
    "              'max_iter': np.array([1000, 1500, 1700])}\n",
    "\n",
    "clf = GridSearchCV(Logit(), parameters, scoring='f1', cv=4)\n",
    "\n",
    "clf.fit(train_X, train_y)\n",
    "\n",
    "pred = clf.predict(test_X)\n",
    "proba  = clf.predict_proba(test_X)\n",
    "print('Best parameters: ', clf.best_params_)"
   ]
  },
  {
   "cell_type": "code",
   "execution_count": 63,
   "metadata": {},
   "outputs": [
    {
     "name": "stdout",
     "output_type": "stream",
     "text": [
      "Precision:   0.46\n",
      "Recall:   0.48\n",
      "F1-measure:   0.46\n",
      "Accuracy:   0.66\n",
      "ROC-AUC  =    0.52\n",
      "\n",
      "\n"
     ]
    },
    {
     "data": {
      "image/png": "[encoded data removed]",
      "text/plain": [
       "<Figure size 432x288 with 1 Axes>"
      ]
     },
     "metadata": {
      "needs_background": "light"
     },
     "output_type": "display_data"
    }
   ],
   "source": [
    "show_results(test_y, pred, proba)"
   ]
  },
  {
   "cell_type": "markdown",
   "metadata": {},
   "source": [
    "##### SVC"
   ]
  },
  {
   "cell_type": "code",
   "execution_count": 64,
   "metadata": {},
   "outputs": [],
   "source": [
    "from sklearn.svm import SVC"
   ]
  },
  {
   "cell_type": "code",
   "execution_count": 65,
   "metadata": {},
   "outputs": [
    {
     "name": "stdout",
     "output_type": "stream",
     "text": [
      "Fitting 5 folds for each of 24 candidates, totalling 120 fits\n",
      "[CV] END .............................C=0.001, kernel=linear; total time=   0.3s\n",
      "[CV] END .............................C=0.001, kernel=linear; total time=   0.2s\n",
      "[CV] END .............................C=0.001, kernel=linear; total time=   0.2s\n",
      "[CV] END .............................C=0.001, kernel=linear; total time=   0.2s\n",
      "[CV] END .............................C=0.001, kernel=linear; total time=   0.2s\n",
      "[CV] END ................................C=0.001, kernel=rbf; total time=   0.7s\n",
      "[CV] END ................................C=0.001, kernel=rbf; total time=   0.6s\n",
      "[CV] END ................................C=0.001, kernel=rbf; total time=   0.6s\n",
      "[CV] END ................................C=0.001, kernel=rbf; total time=   0.6s\n",
      "[CV] END ................................C=0.001, kernel=rbf; total time=   0.6s\n",
      "[CV] END ...............................C=0.001, kernel=poly; total time=   0.3s\n",
      "[CV] END ...............................C=0.001, kernel=poly; total time=   0.3s\n",
      "[CV] END ...............................C=0.001, kernel=poly; total time=   0.3s\n",
      "[CV] END ...............................C=0.001, kernel=poly; total time=   0.3s\n",
      "[CV] END ...............................C=0.001, kernel=poly; total time=   0.3s\n",
      "[CV] END ............................C=0.001, kernel=sigmoid; total time=   0.3s\n",
      "[CV] END ............................C=0.001, kernel=sigmoid; total time=   0.3s\n",
      "[CV] END ............................C=0.001, kernel=sigmoid; total time=   0.3s\n",
      "[CV] END ............................C=0.001, kernel=sigmoid; total time=   0.3s\n",
      "[CV] END ............................C=0.001, kernel=sigmoid; total time=   0.3s\n",
      "[CV] END ..............................C=0.01, kernel=linear; total time=   0.4s\n",
      "[CV] END ..............................C=0.01, kernel=linear; total time=   0.3s\n",
      "[CV] END ..............................C=0.01, kernel=linear; total time=   0.3s\n",
      "[CV] END ..............................C=0.01, kernel=linear; total time=   0.3s\n",
      "[CV] END ..............................C=0.01, kernel=linear; total time=   0.3s\n",
      "[CV] END .................................C=0.01, kernel=rbf; total time=   0.7s\n",
      "[CV] END .................................C=0.01, kernel=rbf; total time=   0.9s\n",
      "[CV] END .................................C=0.01, kernel=rbf; total time=   0.7s\n",
      "[CV] END .................................C=0.01, kernel=rbf; total time=   0.8s\n",
      "[CV] END .................................C=0.01, kernel=rbf; total time=   0.7s\n",
      "[CV] END ................................C=0.01, kernel=poly; total time=   0.4s\n",
      "[CV] END ................................C=0.01, kernel=poly; total time=   0.4s\n",
      "[CV] END ................................C=0.01, kernel=poly; total time=   0.4s\n",
      "[CV] END ................................C=0.01, kernel=poly; total time=   0.4s\n",
      "[CV] END ................................C=0.01, kernel=poly; total time=   0.4s\n",
      "[CV] END .............................C=0.01, kernel=sigmoid; total time=   0.3s\n",
      "[CV] END .............................C=0.01, kernel=sigmoid; total time=   0.3s\n",
      "[CV] END .............................C=0.01, kernel=sigmoid; total time=   0.3s\n",
      "[CV] END .............................C=0.01, kernel=sigmoid; total time=   0.3s\n",
      "[CV] END .............................C=0.01, kernel=sigmoid; total time=   0.3s\n",
      "[CV] END ...............................C=0.1, kernel=linear; total time=   0.3s\n",
      "[CV] END ...............................C=0.1, kernel=linear; total time=   0.3s\n",
      "[CV] END ...............................C=0.1, kernel=linear; total time=   0.3s\n",
      "[CV] END ...............................C=0.1, kernel=linear; total time=   0.3s\n",
      "[CV] END ...............................C=0.1, kernel=linear; total time=   0.3s\n",
      "[CV] END ..................................C=0.1, kernel=rbf; total time=   0.7s\n",
      "[CV] END ..................................C=0.1, kernel=rbf; total time=   0.7s\n",
      "[CV] END ..................................C=0.1, kernel=rbf; total time=   0.7s\n",
      "[CV] END ..................................C=0.1, kernel=rbf; total time=   0.8s\n",
      "[CV] END ..................................C=0.1, kernel=rbf; total time=   0.8s\n",
      "[CV] END .................................C=0.1, kernel=poly; total time=   0.4s\n",
      "[CV] END .................................C=0.1, kernel=poly; total time=   0.4s\n",
      "[CV] END .................................C=0.1, kernel=poly; total time=   0.4s\n",
      "[CV] END .................................C=0.1, kernel=poly; total time=   0.5s\n",
      "[CV] END .................................C=0.1, kernel=poly; total time=   0.5s\n",
      "[CV] END ..............................C=0.1, kernel=sigmoid; total time=   0.3s\n",
      "[CV] END ..............................C=0.1, kernel=sigmoid; total time=   0.3s\n",
      "[CV] END ..............................C=0.1, kernel=sigmoid; total time=   0.3s\n",
      "[CV] END ..............................C=0.1, kernel=sigmoid; total time=   0.3s\n",
      "[CV] END ..............................C=0.1, kernel=sigmoid; total time=   0.3s\n",
      "[CV] END .................................C=1, kernel=linear; total time=   0.3s\n",
      "[CV] END .................................C=1, kernel=linear; total time=   0.3s\n",
      "[CV] END .................................C=1, kernel=linear; total time=   0.3s\n",
      "[CV] END .................................C=1, kernel=linear; total time=   0.3s\n",
      "[CV] END .................................C=1, kernel=linear; total time=   0.3s\n",
      "[CV] END ....................................C=1, kernel=rbf; total time=   0.9s\n",
      "[CV] END ....................................C=1, kernel=rbf; total time=   0.9s\n",
      "[CV] END ....................................C=1, kernel=rbf; total time=   0.8s\n",
      "[CV] END ....................................C=1, kernel=rbf; total time=   0.9s\n",
      "[CV] END ....................................C=1, kernel=rbf; total time=   0.8s\n",
      "[CV] END ...................................C=1, kernel=poly; total time=   0.5s\n",
      "[CV] END ...................................C=1, kernel=poly; total time=   0.6s\n",
      "[CV] END ...................................C=1, kernel=poly; total time=   0.5s\n",
      "[CV] END ...................................C=1, kernel=poly; total time=   0.5s\n",
      "[CV] END ...................................C=1, kernel=poly; total time=   0.5s\n",
      "[CV] END ................................C=1, kernel=sigmoid; total time=   0.5s\n",
      "[CV] END ................................C=1, kernel=sigmoid; total time=   0.3s\n",
      "[CV] END ................................C=1, kernel=sigmoid; total time=   0.3s\n",
      "[CV] END ................................C=1, kernel=sigmoid; total time=   0.3s\n",
      "[CV] END ................................C=1, kernel=sigmoid; total time=   0.3s\n",
      "[CV] END ................................C=10, kernel=linear; total time=   0.5s\n",
      "[CV] END ................................C=10, kernel=linear; total time=   0.5s\n",
      "[CV] END ................................C=10, kernel=linear; total time=   0.5s\n",
      "[CV] END ................................C=10, kernel=linear; total time=   0.7s\n",
      "[CV] END ................................C=10, kernel=linear; total time=   0.6s\n",
      "[CV] END ...................................C=10, kernel=rbf; total time=   0.9s\n",
      "[CV] END ...................................C=10, kernel=rbf; total time=   1.1s\n",
      "[CV] END ...................................C=10, kernel=rbf; total time=   0.9s\n",
      "[CV] END ...................................C=10, kernel=rbf; total time=   1.2s\n",
      "[CV] END ...................................C=10, kernel=rbf; total time=   1.5s\n",
      "[CV] END ..................................C=10, kernel=poly; total time=   0.5s\n",
      "[CV] END ..................................C=10, kernel=poly; total time=   0.5s\n",
      "[CV] END ..................................C=10, kernel=poly; total time=   0.5s\n",
      "[CV] END ..................................C=10, kernel=poly; total time=   0.5s\n",
      "[CV] END ..................................C=10, kernel=poly; total time=   0.5s\n",
      "[CV] END ...............................C=10, kernel=sigmoid; total time=   0.3s\n",
      "[CV] END ...............................C=10, kernel=sigmoid; total time=   0.3s\n",
      "[CV] END ...............................C=10, kernel=sigmoid; total time=   0.3s\n",
      "[CV] END ...............................C=10, kernel=sigmoid; total time=   0.3s\n",
      "[CV] END ...............................C=10, kernel=sigmoid; total time=   0.3s\n",
      "[CV] END ...............................C=100, kernel=linear; total time=   5.3s\n"
     ]
    },
    {
     "name": "stdout",
     "output_type": "stream",
     "text": [
      "[CV] END ...............................C=100, kernel=linear; total time=   4.4s\n",
      "[CV] END ...............................C=100, kernel=linear; total time=   3.1s\n",
      "[CV] END ...............................C=100, kernel=linear; total time=   5.3s\n",
      "[CV] END ...............................C=100, kernel=linear; total time=   4.4s\n",
      "[CV] END ..................................C=100, kernel=rbf; total time=   1.0s\n",
      "[CV] END ..................................C=100, kernel=rbf; total time=   1.1s\n",
      "[CV] END ..................................C=100, kernel=rbf; total time=   1.0s\n",
      "[CV] END ..................................C=100, kernel=rbf; total time=   0.9s\n",
      "[CV] END ..................................C=100, kernel=rbf; total time=   0.9s\n",
      "[CV] END .................................C=100, kernel=poly; total time=   0.4s\n",
      "[CV] END .................................C=100, kernel=poly; total time=   0.5s\n",
      "[CV] END .................................C=100, kernel=poly; total time=   0.5s\n",
      "[CV] END .................................C=100, kernel=poly; total time=   0.6s\n",
      "[CV] END .................................C=100, kernel=poly; total time=   0.5s\n",
      "[CV] END ..............................C=100, kernel=sigmoid; total time=   0.3s\n",
      "[CV] END ..............................C=100, kernel=sigmoid; total time=   0.3s\n",
      "[CV] END ..............................C=100, kernel=sigmoid; total time=   0.4s\n",
      "[CV] END ..............................C=100, kernel=sigmoid; total time=   0.4s\n",
      "[CV] END ..............................C=100, kernel=sigmoid; total time=   0.6s\n",
      "{'C': 10, 'kernel': 'sigmoid'}\n"
     ]
    }
   ],
   "source": [
    "parameters = {'kernel':('linear', 'rbf', 'poly', 'sigmoid'), 'C':[0.001, 0.01, 0.1, 1, 10, 100]}\n",
    "\n",
    "svr = SVC(probability=True, verbose = False)\n",
    "clf = GridSearchCV(svr, parameters, scoring = 'f1', verbose=2)\n",
    "clf.fit(train_X, train_y)\n",
    "print(clf.best_params_)\n",
    "pred = clf.predict(test_X)\n",
    "proba  = clf.predict_proba(test_X)"
   ]
  },
  {
   "cell_type": "code",
   "execution_count": 66,
   "metadata": {},
   "outputs": [
    {
     "name": "stdout",
     "output_type": "stream",
     "text": [
      "Precision:   0.59\n",
      "Recall:   0.56\n",
      "F1-measure:   0.56\n",
      "Accuracy:   0.72\n",
      "ROC-AUC  =    0.67\n",
      "\n",
      "\n"
     ]
    },
    {
     "data": {
      "image/png": "[encoded data removed]",
      "text/plain": [
       "<Figure size 432x288 with 1 Axes>"
      ]
     },
     "metadata": {
      "needs_background": "light"
     },
     "output_type": "display_data"
    }
   ],
   "source": [
    "show_results(test_y, pred, proba[:,1])"
   ]
  },
  {
   "cell_type": "markdown",
   "metadata": {},
   "source": [
    "#### В итоге получилось, что модель Logit не сильно уступает встроенной svc. Можно сказать, что основные метрики сопоставимы, как и confusion matrices. Но все-таки SVC показывает немного более хороший результат."
   ]
  },
  {
   "cell_type": "markdown",
   "metadata": {},
   "source": [
    "### 2."
   ]
  },
  {
   "cell_type": "code",
   "execution_count": 67,
   "metadata": {},
   "outputs": [
    {
     "name": "stdout",
     "output_type": "stream",
     "text": [
      "Best parameters:  {'beta': 1.0, 'gamma': 0.0, 'max_iter': 1000}\n"
     ]
    }
   ],
   "source": [
    "parameters = {'beta': np.array([0, 0.5, 1]), 'gamma' : np.array([0, 0.5, 1]),\\\n",
    "              'max_iter': np.array([700, 1000, 1500, 1700])}\n",
    "clf = GridSearchCV(Logit(), parameters, scoring='roc_auc')\n",
    "clf.fit(train_X, train_y)\n",
    "pred = clf.predict(test_X)\n",
    "proba  = clf.predict_proba(test_X)\n",
    "print('Best parameters: ', clf.best_params_)"
   ]
  },
  {
   "cell_type": "code",
   "execution_count": 68,
   "metadata": {},
   "outputs": [],
   "source": [
    "roc_auc_score_lst = []\n",
    "for max_iter in np.array([700, 1000, 1500, 1700]):\n",
    "    model = Logit(beta = 1, gamma = 0, max_iter = max_iter)\n",
    "    model.fit(train_X, train_y)\n",
    "    proba  = model.predict_proba(test_X)\n",
    "    roc_auc_score_lst.append(roc_auc_score(test_y, proba))"
   ]
  },
  {
   "cell_type": "code",
   "execution_count": 69,
   "metadata": {},
   "outputs": [
    {
     "data": {
      "text/plain": [
       "[<matplotlib.lines.Line2D at 0x1c2ca4dff60>]"
      ]
     },
     "execution_count": 69,
     "metadata": {},
     "output_type": "execute_result"
    },
    {
     "data": {
      "image/png": "[encoded data removed]",
      "text/plain": [
       "<Figure size 432x288 with 1 Axes>"
      ]
     },
     "metadata": {
      "needs_background": "light"
     },
     "output_type": "display_data"
    }
   ],
   "source": [
    "plt.plot(np.array([700, 1000, 1500, 1700]), roc_auc_score_lst)"
   ]
  },
  {
   "cell_type": "code",
   "execution_count": 70,
   "metadata": {},
   "outputs": [],
   "source": [
    "roc_auc_score_lst = []\n",
    "for gamma in np.array([0, 0.3, 0.5, 0.7, 1]):\n",
    "    model = Logit(beta = 1, gamma = gamma, max_iter = 1000)\n",
    "    model.fit(train_X, train_y)\n",
    "    proba  = model.predict_proba(test_X)\n",
    "    roc_auc_score_lst.append(roc_auc_score(test_y, proba))"
   ]
  },
  {
   "cell_type": "code",
   "execution_count": 71,
   "metadata": {},
   "outputs": [
    {
     "data": {
      "text/plain": [
       "[<matplotlib.lines.Line2D at 0x1c2ca6b8f98>]"
      ]
     },
     "execution_count": 71,
     "metadata": {},
     "output_type": "execute_result"
    },
    {
     "data": {
      "image/png": "[encoded data removed]",
      "text/plain": [
       "<Figure size 432x288 with 1 Axes>"
      ]
     },
     "metadata": {
      "needs_background": "light"
     },
     "output_type": "display_data"
    }
   ],
   "source": [
    "plt.plot(np.array([0, 0.3, 0.5, 0.7, 1]), roc_auc_score_lst)"
   ]
  },
  {
   "cell_type": "code",
   "execution_count": 72,
   "metadata": {},
   "outputs": [],
   "source": [
    "roc_auc_score_lst = []\n",
    "for beta in np.array([0.7, 1, 1.3, 1.5, 1.7]):\n",
    "    model = Logit(beta = beta, gamma = 0, max_iter = 1000)\n",
    "    model.fit(train_X, train_y)\n",
    "    proba  = model.predict_proba(test_X)\n",
    "    roc_auc_score_lst.append(roc_auc_score(test_y, proba))"
   ]
  },
  {
   "cell_type": "code",
   "execution_count": 73,
   "metadata": {},
   "outputs": [
    {
     "data": {
      "text/plain": [
       "[<matplotlib.lines.Line2D at 0x1c2ca6d61d0>]"
      ]
     },
     "execution_count": 73,
     "metadata": {},
     "output_type": "execute_result"
    },
    {
     "data": {
      "image/png": "[encoded data removed]",
      "text/plain": [
       "<Figure size 432x288 with 1 Axes>"
      ]
     },
     "metadata": {
      "needs_background": "light"
     },
     "output_type": "display_data"
    }
   ],
   "source": [
    "plt.plot(np.array([0.7, 1, 1.3, 1.5, 1.7]), roc_auc_score_lst)"
   ]
  },
  {
   "cell_type": "markdown",
   "metadata": {},
   "source": [
    "Roc auc score везде приблизительно около 0.7 в лучших случаях."
   ]
  },
  {
   "cell_type": "code",
   "execution_count": 74,
   "metadata": {},
   "outputs": [
    {
     "name": "stdout",
     "output_type": "stream",
     "text": [
      "Fitting 5 folds for each of 24 candidates, totalling 120 fits\n",
      "[CV] END .............................C=0.001, kernel=linear; total time=   0.2s\n",
      "[CV] END .............................C=0.001, kernel=linear; total time=   0.3s\n",
      "[CV] END .............................C=0.001, kernel=linear; total time=   0.3s\n",
      "[CV] END .............................C=0.001, kernel=linear; total time=   0.2s\n",
      "[CV] END .............................C=0.001, kernel=linear; total time=   0.3s\n",
      "[CV] END ................................C=0.001, kernel=rbf; total time=   0.5s\n",
      "[CV] END ................................C=0.001, kernel=rbf; total time=   0.7s\n",
      "[CV] END ................................C=0.001, kernel=rbf; total time=   0.6s\n",
      "[CV] END ................................C=0.001, kernel=rbf; total time=   0.4s\n",
      "[CV] END ................................C=0.001, kernel=rbf; total time=   0.4s\n",
      "[CV] END ...............................C=0.001, kernel=poly; total time=   0.3s\n",
      "[CV] END ...............................C=0.001, kernel=poly; total time=   0.3s\n",
      "[CV] END ...............................C=0.001, kernel=poly; total time=   0.3s\n",
      "[CV] END ...............................C=0.001, kernel=poly; total time=   0.3s\n",
      "[CV] END ...............................C=0.001, kernel=poly; total time=   0.3s\n",
      "[CV] END ............................C=0.001, kernel=sigmoid; total time=   0.3s\n",
      "[CV] END ............................C=0.001, kernel=sigmoid; total time=   0.3s\n",
      "[CV] END ............................C=0.001, kernel=sigmoid; total time=   0.3s\n",
      "[CV] END ............................C=0.001, kernel=sigmoid; total time=   0.3s\n",
      "[CV] END ............................C=0.001, kernel=sigmoid; total time=   0.2s\n",
      "[CV] END ..............................C=0.01, kernel=linear; total time=   0.3s\n",
      "[CV] END ..............................C=0.01, kernel=linear; total time=   0.2s\n",
      "[CV] END ..............................C=0.01, kernel=linear; total time=   0.3s\n",
      "[CV] END ..............................C=0.01, kernel=linear; total time=   0.3s\n",
      "[CV] END ..............................C=0.01, kernel=linear; total time=   0.3s\n",
      "[CV] END .................................C=0.01, kernel=rbf; total time=   0.6s\n",
      "[CV] END .................................C=0.01, kernel=rbf; total time=   0.5s\n",
      "[CV] END .................................C=0.01, kernel=rbf; total time=   0.5s\n",
      "[CV] END .................................C=0.01, kernel=rbf; total time=   0.6s\n",
      "[CV] END .................................C=0.01, kernel=rbf; total time=   0.5s\n",
      "[CV] END ................................C=0.01, kernel=poly; total time=   0.4s\n",
      "[CV] END ................................C=0.01, kernel=poly; total time=   0.4s\n",
      "[CV] END ................................C=0.01, kernel=poly; total time=   0.4s\n",
      "[CV] END ................................C=0.01, kernel=poly; total time=   0.5s\n",
      "[CV] END ................................C=0.01, kernel=poly; total time=   0.4s\n",
      "[CV] END .............................C=0.01, kernel=sigmoid; total time=   0.3s\n",
      "[CV] END .............................C=0.01, kernel=sigmoid; total time=   0.3s\n",
      "[CV] END .............................C=0.01, kernel=sigmoid; total time=   0.3s\n",
      "[CV] END .............................C=0.01, kernel=sigmoid; total time=   0.3s\n",
      "[CV] END .............................C=0.01, kernel=sigmoid; total time=   0.3s\n",
      "[CV] END ...............................C=0.1, kernel=linear; total time=   0.3s\n",
      "[CV] END ...............................C=0.1, kernel=linear; total time=   0.4s\n",
      "[CV] END ...............................C=0.1, kernel=linear; total time=   0.3s\n",
      "[CV] END ...............................C=0.1, kernel=linear; total time=   0.3s\n",
      "[CV] END ...............................C=0.1, kernel=linear; total time=   0.3s\n",
      "[CV] END ..................................C=0.1, kernel=rbf; total time=   0.6s\n",
      "[CV] END ..................................C=0.1, kernel=rbf; total time=   0.6s\n",
      "[CV] END ..................................C=0.1, kernel=rbf; total time=   0.6s\n",
      "[CV] END ..................................C=0.1, kernel=rbf; total time=   0.8s\n",
      "[CV] END ..................................C=0.1, kernel=rbf; total time=   0.6s\n",
      "[CV] END .................................C=0.1, kernel=poly; total time=   0.4s\n",
      "[CV] END .................................C=0.1, kernel=poly; total time=   0.4s\n",
      "[CV] END .................................C=0.1, kernel=poly; total time=   0.4s\n",
      "[CV] END .................................C=0.1, kernel=poly; total time=   0.5s\n",
      "[CV] END .................................C=0.1, kernel=poly; total time=   0.4s\n",
      "[CV] END ..............................C=0.1, kernel=sigmoid; total time=   0.3s\n",
      "[CV] END ..............................C=0.1, kernel=sigmoid; total time=   0.3s\n",
      "[CV] END ..............................C=0.1, kernel=sigmoid; total time=   0.4s\n",
      "[CV] END ..............................C=0.1, kernel=sigmoid; total time=   0.3s\n",
      "[CV] END ..............................C=0.1, kernel=sigmoid; total time=   0.3s\n",
      "[CV] END .................................C=1, kernel=linear; total time=   0.3s\n",
      "[CV] END .................................C=1, kernel=linear; total time=   0.3s\n",
      "[CV] END .................................C=1, kernel=linear; total time=   0.3s\n",
      "[CV] END .................................C=1, kernel=linear; total time=   0.4s\n",
      "[CV] END .................................C=1, kernel=linear; total time=   0.3s\n",
      "[CV] END ....................................C=1, kernel=rbf; total time=   0.6s\n",
      "[CV] END ....................................C=1, kernel=rbf; total time=   0.6s\n",
      "[CV] END ....................................C=1, kernel=rbf; total time=   0.6s\n",
      "[CV] END ....................................C=1, kernel=rbf; total time=   0.7s\n",
      "[CV] END ....................................C=1, kernel=rbf; total time=   0.8s\n",
      "[CV] END ...................................C=1, kernel=poly; total time=   0.4s\n",
      "[CV] END ...................................C=1, kernel=poly; total time=   0.7s\n",
      "[CV] END ...................................C=1, kernel=poly; total time=   0.6s\n",
      "[CV] END ...................................C=1, kernel=poly; total time=   0.5s\n",
      "[CV] END ...................................C=1, kernel=poly; total time=   0.4s\n",
      "[CV] END ................................C=1, kernel=sigmoid; total time=   0.4s\n",
      "[CV] END ................................C=1, kernel=sigmoid; total time=   0.4s\n",
      "[CV] END ................................C=1, kernel=sigmoid; total time=   0.3s\n",
      "[CV] END ................................C=1, kernel=sigmoid; total time=   0.3s\n",
      "[CV] END ................................C=1, kernel=sigmoid; total time=   0.5s\n",
      "[CV] END ................................C=10, kernel=linear; total time=   0.7s\n",
      "[CV] END ................................C=10, kernel=linear; total time=   0.6s\n",
      "[CV] END ................................C=10, kernel=linear; total time=   0.7s\n",
      "[CV] END ................................C=10, kernel=linear; total time=   0.7s\n",
      "[CV] END ................................C=10, kernel=linear; total time=   0.5s\n",
      "[CV] END ...................................C=10, kernel=rbf; total time=   0.7s\n",
      "[CV] END ...................................C=10, kernel=rbf; total time=   0.7s\n",
      "[CV] END ...................................C=10, kernel=rbf; total time=   0.7s\n",
      "[CV] END ...................................C=10, kernel=rbf; total time=   0.7s\n",
      "[CV] END ...................................C=10, kernel=rbf; total time=   0.7s\n",
      "[CV] END ..................................C=10, kernel=poly; total time=   0.4s\n",
      "[CV] END ..................................C=10, kernel=poly; total time=   0.4s\n",
      "[CV] END ..................................C=10, kernel=poly; total time=   0.4s\n",
      "[CV] END ..................................C=10, kernel=poly; total time=   0.6s\n",
      "[CV] END ..................................C=10, kernel=poly; total time=   0.4s\n",
      "[CV] END ...............................C=10, kernel=sigmoid; total time=   0.3s\n",
      "[CV] END ...............................C=10, kernel=sigmoid; total time=   0.4s\n",
      "[CV] END ...............................C=10, kernel=sigmoid; total time=   0.5s\n",
      "[CV] END ...............................C=10, kernel=sigmoid; total time=   0.5s\n",
      "[CV] END ...............................C=10, kernel=sigmoid; total time=   0.3s\n",
      "[CV] END ...............................C=100, kernel=linear; total time=   4.4s\n"
     ]
    },
    {
     "name": "stdout",
     "output_type": "stream",
     "text": [
      "[CV] END ...............................C=100, kernel=linear; total time=   3.9s\n",
      "[CV] END ...............................C=100, kernel=linear; total time=   2.9s\n",
      "[CV] END ...............................C=100, kernel=linear; total time=   3.4s\n",
      "[CV] END ...............................C=100, kernel=linear; total time=   4.5s\n",
      "[CV] END ..................................C=100, kernel=rbf; total time=   0.7s\n",
      "[CV] END ..................................C=100, kernel=rbf; total time=   0.7s\n",
      "[CV] END ..................................C=100, kernel=rbf; total time=   1.1s\n",
      "[CV] END ..................................C=100, kernel=rbf; total time=   0.8s\n",
      "[CV] END ..................................C=100, kernel=rbf; total time=   0.7s\n",
      "[CV] END .................................C=100, kernel=poly; total time=   0.5s\n",
      "[CV] END .................................C=100, kernel=poly; total time=   0.5s\n",
      "[CV] END .................................C=100, kernel=poly; total time=   0.5s\n",
      "[CV] END .................................C=100, kernel=poly; total time=   0.6s\n",
      "[CV] END .................................C=100, kernel=poly; total time=   0.5s\n",
      "[CV] END ..............................C=100, kernel=sigmoid; total time=   0.4s\n",
      "[CV] END ..............................C=100, kernel=sigmoid; total time=   0.4s\n",
      "[CV] END ..............................C=100, kernel=sigmoid; total time=   0.3s\n",
      "[CV] END ..............................C=100, kernel=sigmoid; total time=   0.3s\n",
      "[CV] END ..............................C=100, kernel=sigmoid; total time=   0.4s\n",
      "Best parameters:  {'C': 0.1, 'kernel': 'linear'}\n"
     ]
    }
   ],
   "source": [
    "parameters = {'kernel':('linear', 'rbf', 'poly', 'sigmoid'), 'C':[0.001, 0.01, 0.1, 1, 10, 100]}\n",
    "clf = GridSearchCV(SVC(probability=True, verbose = False), parameters, scoring='roc_auc', verbose = 2)\n",
    "clf.fit(train_X, train_y)\n",
    "pred = clf.predict(test_X)\n",
    "proba  = clf.predict_proba(test_X)\n",
    "print('Best parameters: ', clf.best_params_)"
   ]
  },
  {
   "cell_type": "markdown",
   "metadata": {},
   "source": [
    "Лучшие параметры получились C = 0.1 и linear kernel"
   ]
  },
  {
   "cell_type": "code",
   "execution_count": 75,
   "metadata": {},
   "outputs": [],
   "source": [
    "roc_auc_score_lst = []\n",
    "for c in np.array([0.001, 0.01, 0.1, 1, 10, 100]):\n",
    "    model = SVC(C = c, kernel = 'linear')\n",
    "    model.fit(train_X, train_y)\n",
    "    proba  = model.decision_function(test_X)\n",
    "    roc_auc_score_lst.append(roc_auc_score(test_y, proba))"
   ]
  },
  {
   "cell_type": "code",
   "execution_count": 76,
   "metadata": {},
   "outputs": [
    {
     "data": {
      "text/plain": [
       "[<matplotlib.lines.Line2D at 0x1c2ca5da470>]"
      ]
     },
     "execution_count": 76,
     "metadata": {},
     "output_type": "execute_result"
    },
    {
     "data": {
      "image/png": "[encoded data removed]",
      "text/plain": [
       "<Figure size 432x288 with 1 Axes>"
      ]
     },
     "metadata": {
      "needs_background": "light"
     },
     "output_type": "display_data"
    }
   ],
   "source": [
    "plt.plot(np.array([0.001, 0.01, 0.1, 1, 10, 100]), roc_auc_score_lst)"
   ]
  },
  {
   "cell_type": "markdown",
   "metadata": {},
   "source": [
    "#### Что можно сказать о моделях: Кажется, что roc_auc_score около 0.7 это вполне достаточно для оценки, так как обработка текстов была не очень длинной и тяжелой, а количество текста не очень большое. Тем не менее, результат довольно хороший"
   ]
  },
  {
   "cell_type": "markdown",
   "metadata": {
    "id": "5G1kt0qbDvZL"
   },
   "source": [
    "#### 9. [1 point] Analysing ROC_AUC\n",
    "\n",
    "It is possible to control the proportion of statistical errors of different types using different thresholds for choosing a class. Plot ROC curves for Logistic Regression and SVC, show the threshold on ROC curve plots. Choose such a threshold that your models have no more than 30% of false positive errors rate "
   ]
  },
  {
   "cell_type": "code",
   "execution_count": 77,
   "metadata": {},
   "outputs": [],
   "source": [
    "import sklearn \n",
    "from sklearn import metrics"
   ]
  },
  {
   "cell_type": "code",
   "execution_count": 78,
   "metadata": {},
   "outputs": [],
   "source": [
    "parameters = {'beta': np.array([0, 0.5, 1]), 'gamma' : np.array([0, 0.5, 1]),\\\n",
    "              'max_iter': np.array([1000, 1500, 1700])}\n",
    "clf1 = GridSearchCV(Logit(), parameters, scoring='f1', cv=4)\n",
    "clf1.fit(train_X, train_y)\n",
    "pred1 = clf1.predict(test_X)\n",
    "proba1  = clf1.predict_proba(test_X)"
   ]
  },
  {
   "cell_type": "code",
   "execution_count": 79,
   "metadata": {},
   "outputs": [
    {
     "data": {
      "image/png": "[encoded data removed]",
      "text/plain": [
       "<Figure size 432x288 with 1 Axes>"
      ]
     },
     "metadata": {
      "needs_background": "light"
     },
     "output_type": "display_data"
    }
   ],
   "source": [
    "metrics.plot_roc_curve(clf1, test_X, test_y)\n",
    "plt.show()  "
   ]
  },
  {
   "cell_type": "code",
   "execution_count": 80,
   "metadata": {},
   "outputs": [],
   "source": [
    "parameters = {'kernel':('linear', 'rbf', 'poly', 'sigmoid'), 'C':[0.001, 0.01, 0.1, 1, 10, 100]}\n",
    "clf2 = GridSearchCV(SVC(probability=True, verbose = False), parameters, scoring='roc_auc', verbose = 0)\n",
    "clf2.fit(train_X, train_y)\n",
    "pred2 = clf2.predict(test_X)\n",
    "proba2  = clf2.predict_proba(test_X)"
   ]
  },
  {
   "cell_type": "code",
   "execution_count": 81,
   "metadata": {},
   "outputs": [
    {
     "data": {
      "image/png": "[encoded data removed]",
      "text/plain": [
       "<Figure size 432x288 with 1 Axes>"
      ]
     },
     "metadata": {
      "needs_background": "light"
     },
     "output_type": "display_data"
    }
   ],
   "source": [
    "metrics.plot_roc_curve(clf2, test_X, test_y)  \n",
    "plt.show()"
   ]
  },
  {
   "cell_type": "markdown",
   "metadata": {},
   "source": [
    "Мы должны выбрать такие точки на кривых, где FPR не более 30%"
   ]
  },
  {
   "cell_type": "code",
   "execution_count": 82,
   "metadata": {},
   "outputs": [
    {
     "data": {
      "image/png": "[encoded data removed]",
      "text/plain": [
       "<Figure size 432x288 with 1 Axes>"
      ]
     },
     "metadata": {
      "needs_background": "light"
     },
     "output_type": "display_data"
    }
   ],
   "source": [
    "metrics.plot_roc_curve(clf1, test_X, test_y)\n",
    "plt.vlines(0.3, 0, 1, color = 'g', label = 'treshold')\n",
    "plt.show()  "
   ]
  },
  {
   "cell_type": "code",
   "execution_count": 83,
   "metadata": {},
   "outputs": [
    {
     "data": {
      "image/png": "[encoded data removed]",
      "text/plain": [
       "<Figure size 432x288 with 1 Axes>"
      ]
     },
     "metadata": {
      "needs_background": "light"
     },
     "output_type": "display_data"
    }
   ],
   "source": [
    "metrics.plot_roc_curve(clf2, test_X, test_y)\n",
    "plt.vlines(0.3, 0, 1, color = 'g', label = 'treshold')\n",
    "plt.show()  "
   ]
  },
  {
   "cell_type": "markdown",
   "metadata": {
    "id": "C-qubaK4DvZM"
   },
   "source": [
    "### Multiclass logit"
   ]
  },
  {
   "cell_type": "markdown",
   "metadata": {
    "id": "yJQone-LDvZM"
   },
   "source": [
    "#### 10. [1 point] Take the One-VS-Rest classifier (use sklearn) and apply to Logit model (one you've made in the 4th task) in order to get multiclass linear classifier\n",
    "\n",
    "<a href=\"https://scikit-learn.org/stable/modules/generated/sklearn.multiclass.OneVsRestClassifier.html\">OneVsRestClassifier</a>\n",
    "\n",
    "* use the whole dataset with 6 authors\n",
    "* divide the data into train and test samples with 3/4 split rate\n",
    "* train the model using cross validation\n",
    "* plot confusion matrix for train and test samples\n",
    "* compute all possible and relevant metrics for test sample (use sklearn)\n",
    "* using GridSearchCV - find the best parameters for the models (by averaged ROC_AUC score). **HINT:** Do not forget about set jobs=-1 in the GridSearchCV init to speed up calculations.\n",
    "* make conclusions about the model"
   ]
  },
  {
   "cell_type": "code",
   "execution_count": 84,
   "metadata": {},
   "outputs": [
    {
     "data": {
      "text/plain": [
       "Gorky         5387\n",
       "Dostoevsky    4040\n",
       "Turgenev      2693\n",
       "Bryusov       2020\n",
       "Herzen         943\n",
       "Blok           404\n",
       "Name: author, dtype: int64"
      ]
     },
     "execution_count": 84,
     "metadata": {},
     "output_type": "execute_result"
    }
   ],
   "source": [
    "data['author'].value_counts() #полный датасет"
   ]
  },
  {
   "cell_type": "code",
   "execution_count": 85,
   "metadata": {},
   "outputs": [],
   "source": [
    "train_texts, test_texts, train_y, test_y = train_test_split(data['preprocessed_texts'], data['author'], test_size=0.25, random_state=42)"
   ]
  },
  {
   "cell_type": "code",
   "execution_count": 86,
   "metadata": {},
   "outputs": [],
   "source": [
    "from sklearn.multiclass import OneVsRestClassifier, OneVsOneClassifier"
   ]
  },
  {
   "cell_type": "code",
   "execution_count": 87,
   "metadata": {},
   "outputs": [],
   "source": [
    "vectorizer = TfidfVectorizer(max_features = 100)\n",
    "vectorizer.fit(train_texts)\n",
    "train_X = vectorizer.transform(train_texts)\n",
    "test_X  = vectorizer.transform(test_texts)"
   ]
  },
  {
   "cell_type": "code",
   "execution_count": 88,
   "metadata": {},
   "outputs": [],
   "source": [
    "train_y = np.array(train_y)\n",
    "test_y = np.array(test_y)\n",
    "train_y_ = np.zeros(train_y.shape)\n",
    "test_y_ = np.zeros(test_y.shape)"
   ]
  },
  {
   "cell_type": "code",
   "execution_count": 89,
   "metadata": {},
   "outputs": [
    {
     "data": {
      "text/plain": [
       "Gorky         5387\n",
       "Dostoevsky    4040\n",
       "Turgenev      2693\n",
       "Bryusov       2020\n",
       "Herzen         943\n",
       "Blok           404\n",
       "Name: author, dtype: int64"
      ]
     },
     "execution_count": 89,
     "metadata": {},
     "output_type": "execute_result"
    }
   ],
   "source": [
    "data['author'].value_counts()"
   ]
  },
  {
   "cell_type": "code",
   "execution_count": 90,
   "metadata": {},
   "outputs": [],
   "source": [
    "train_y_[train_y == 'Gorky'] = 0\n",
    "train_y_[train_y == 'Dostoevsky'] = 1\n",
    "train_y_[train_y == 'Turgenev'] = 2\n",
    "train_y_[train_y == 'Bryusov'] = 3\n",
    "train_y_[train_y == 'Herzen'] = 4\n",
    "train_y_[train_y == 'Blok'] = 5\n",
    "\n",
    "test_y_[test_y == 'Gorky'] = 0\n",
    "test_y_[test_y == 'Dostoevsky'] = 1\n",
    "test_y_[test_y == 'Turgenev'] = 2\n",
    "test_y_[test_y == 'Bryusov'] = 3\n",
    "test_y_[test_y == 'Herzen'] = 4\n",
    "test_y_[test_y == 'Blok'] = 5"
   ]
  },
  {
   "cell_type": "code",
   "execution_count": 91,
   "metadata": {},
   "outputs": [],
   "source": [
    "train_X = np.array(train_X.todense())\n",
    "test_X = np.array(test_X.todense())"
   ]
  },
  {
   "cell_type": "code",
   "execution_count": 92,
   "metadata": {},
   "outputs": [],
   "source": [
    "from sklearn.linear_model import LogisticRegression"
   ]
  },
  {
   "cell_type": "code",
   "execution_count": 115,
   "metadata": {},
   "outputs": [
    {
     "name": "stdout",
     "output_type": "stream",
     "text": [
      "OneVsRest Strategy\n",
      "Best parameters:  {'estimator__beta': 0, 'estimator__gamma': 0}\n"
     ]
    }
   ],
   "source": [
    "parameters = {'estimator__gamma': [0, 0.1, 1], 'estimator__beta': [0, 0.1, 1]}\n",
    "\n",
    "my_scorer = make_scorer(roc_auc_score, greater_is_better=True, multi_class = 'ovr')\n",
    "\n",
    "\n",
    "#svr = OneVsRestClassifier(LogisticRegression(verbose = False))\n",
    "svr = OneVsRestClassifier(Logit(max_iter = 500))\n",
    "clf = GridSearchCV(svr, parameters, scoring=my_scorer, n_jobs = -1)\n",
    "clf.fit(train_X, train_y_)\n",
    "proba = clf.decision_function(test_X)\n",
    "predict = clf.predict(test_X)\n",
    "print('OneVsRest Strategy')\n",
    "print('Best parameters: ', clf.best_params_)"
   ]
  },
  {
   "cell_type": "code",
   "execution_count": 116,
   "metadata": {},
   "outputs": [],
   "source": [
    "model = OneVsRestClassifier(Logit(beta = 0, gamma = 0, max_iter = 500))\n",
    "model.fit(train_X, train_y_)\n",
    "proba = model.decision_function(test_X)\n",
    "predict = model.predict(test_X)"
   ]
  },
  {
   "cell_type": "code",
   "execution_count": 128,
   "metadata": {},
   "outputs": [
    {
     "name": "stdout",
     "output_type": "stream",
     "text": [
      "Precision:   0.17\n",
      "Recall:   0.16\n",
      "F1-measure:   0.13\n",
      "Accuracy:   0.17\n",
      "\n",
      "\n"
     ]
    },
    {
     "data": {
      "image/png": "[encoded data removed]",
      "text/plain": [
       "<Figure size 432x288 with 1 Axes>"
      ]
     },
     "metadata": {
      "needs_background": "light"
     },
     "output_type": "display_data"
    }
   ],
   "source": [
    "print(\"Precision: {0:6.2f}\".format(precision_score(test_y_, predict, average='macro')))\n",
    "print(\"Recall: {0:6.2f}\".format(recall_score(test_y_, predict, average='macro')))\n",
    "print(\"F1-measure: {0:6.2f}\".format(f1_score(test_y_, predict, average='macro')))\n",
    "print(\"Accuracy: {0:6.2f}\".format(accuracy_score(test_y_, predict,)))\n",
    "print('\\n')\n",
    "labels = ['Gorky','Dostoevsky', 'Turgenev', 'Bryusov', 'Herzen', 'Blok' ]\n",
    "\n",
    "\n",
    "#classification_report\n",
    "sns.heatmap(data=confusion_matrix(test_y_, predict), annot=True, fmt=\"d\", cbar=False, xticklabels=labels, yticklabels=labels)\n",
    "plt.title(\"Confusion matrix \")\n",
    "plt.show()"
   ]
  },
  {
   "cell_type": "markdown",
   "metadata": {},
   "source": [
    "Видно, что результат получился не очень хороший. Скорее всего это связано с тем, что датасет не сбалансированный. Мы видим, что Горький почти всегда угадывается нашей моделью, скорее всего потому, что его очень много а данных. С другой стороны, очень много данных предсказано неверно, и очень низкие значения метрик. Это говорит о том, что модель не очень хорошая.\n"
   ]
  },
  {
   "cell_type": "code",
   "execution_count": 130,
   "metadata": {},
   "outputs": [
    {
     "name": "stdout",
     "output_type": "stream",
     "text": [
      "OneVsRest Strategy\n",
      "Best parameters:  {'estimator__C': 0.01, 'estimator__class_weight': 'balanced'}\n"
     ]
    }
   ],
   "source": [
    "parameters = {'estimator__C': [0.01, 0.1, 1], \\\n",
    "              'estimator__class_weight' : ['balanced', None]}\n",
    "\n",
    "my_scorer = make_scorer(roc_auc_score, greater_is_better=True, multi_class = 'ovr')\n",
    "\n",
    "\n",
    "svr = OneVsRestClassifier(LogisticRegression(verbose = False))\n",
    "clf = GridSearchCV(svr, parameters, scoring=my_scorer, n_jobs = -1)\n",
    "clf.fit(train_X, train_y_)\n",
    "proba = clf.decision_function(test_X)\n",
    "predict = clf.predict(test_X)\n",
    "print('OneVsRest Strategy')\n",
    "print('Best parameters: ', clf.best_params_)"
   ]
  },
  {
   "cell_type": "code",
   "execution_count": 131,
   "metadata": {},
   "outputs": [],
   "source": [
    "model = OneVsRestClassifier(LogisticRegression(C = 0.01, class_weight = 'balanced'))\n",
    "model.fit(train_X, train_y_)\n",
    "proba = model.predict_proba(test_X)\n",
    "predict = model.predict(test_X)"
   ]
  },
  {
   "cell_type": "code",
   "execution_count": 132,
   "metadata": {},
   "outputs": [
    {
     "name": "stdout",
     "output_type": "stream",
     "text": [
      "Precision:   0.28\n",
      "Recall:   0.28\n",
      "F1-measure:   0.23\n",
      "Accuracy:   0.26\n",
      "\n",
      "\n"
     ]
    },
    {
     "data": {
      "image/png": "[encoded data removed]",
      "text/plain": [
       "<Figure size 432x288 with 1 Axes>"
      ]
     },
     "metadata": {
      "needs_background": "light"
     },
     "output_type": "display_data"
    }
   ],
   "source": [
    "print(\"Precision: {0:6.2f}\".format(precision_score(test_y_, predict, average='macro')))\n",
    "print(\"Recall: {0:6.2f}\".format(recall_score(test_y_, predict, average='macro')))\n",
    "print(\"F1-measure: {0:6.2f}\".format(f1_score(test_y_, predict, average='macro')))\n",
    "print(\"Accuracy: {0:6.2f}\".format(accuracy_score(test_y_, predict,)))\n",
    "print('\\n')\n",
    "labels = ['Gorky','Dostoevsky', 'Turgenev', 'Bryusov', 'Herzen', 'Blok' ]\n",
    "\n",
    "\n",
    "#classification_report\n",
    "sns.heatmap(data=confusion_matrix(test_y_, predict), annot=True, fmt=\"d\", cbar=False, xticklabels=labels, yticklabels=labels)\n",
    "plt.title(\"Confusion matrix \")\n",
    "plt.show()"
   ]
  },
  {
   "cell_type": "markdown",
   "metadata": {},
   "source": [
    "Как мы видим, для встроенной регрессии, результат уже получше, но тоже не очень хороший. Скорее всего, опять же, проблема в несбалансированности."
   ]
  },
  {
   "cell_type": "code",
   "execution_count": null,
   "metadata": {},
   "outputs": [],
   "source": []
  }
 ],
 "metadata": {
  "colab": {
   "collapsed_sections": [],
   "name": "HW3_v7_empty.ipynb",
   "provenance": []
  },
  "kernelspec": {
   "display_name": "Python 3",
   "language": "python",
   "name": "python3"
  },
  "language_info": {
   "codemirror_mode": {
    "name": "ipython",
    "version": 3
   },
   "file_extension": ".py",
   "mimetype": "text/x-python",
   "name": "python",
   "nbconvert_exporter": "python",
   "pygments_lexer": "ipython3",
   "version": "3.7.3"
  }
 },
 "nbformat": 4,
 "nbformat_minor": 1
}
